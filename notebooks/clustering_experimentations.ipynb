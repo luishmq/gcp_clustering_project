{
 "cells": [
  {
   "cell_type": "markdown",
   "id": "fe5012bf-54a4-421c-b680-ecb4afbf8723",
   "metadata": {},
   "source": [
    "# 0.0 Imports"
   ]
  },
  {
   "cell_type": "code",
   "execution_count": 48,
   "id": "207a82f8-16de-4b40-af32-c164528789a7",
   "metadata": {},
   "outputs": [],
   "source": [
    "import pandas as pd\n",
    "import numpy  as np\n",
    "import inflection\n",
    "import umap.umap_ as umap\n",
    "from typing import Tuple\n",
    "from functools import reduce \n",
    "from google.cloud import bigquery\n",
    "from sklearn.preprocessing import MinMaxScaler\n",
    "from sklearn.decomposition import PCA\n",
    "from sklearn.manifold import TSNE\n",
    "from sklearn.cluster import KMeans\n",
    "from sklearn.mixture import GaussianMixture\n",
    "from sklearn.ensemble import RandomForestRegressor\n",
    "from sklearn.metrics import silhouette_score"
   ]
  },
  {
   "cell_type": "code",
   "execution_count": 2,
   "id": "1df84f42-f053-46f9-968f-91a4f16e98da",
   "metadata": {},
   "outputs": [
    {
     "name": "stdout",
     "output_type": "stream",
     "text": [
      "Collecting inflection\n",
      "  Using cached inflection-0.5.1-py2.py3-none-any.whl (9.5 kB)\n",
      "Installing collected packages: inflection\n",
      "Successfully installed inflection-0.5.1\n"
     ]
    }
   ],
   "source": [
    "# !pip install inflection"
   ]
  },
  {
   "cell_type": "code",
   "execution_count": 4,
   "id": "75b98eb5-4a70-4a13-a658-c99307b58aeb",
   "metadata": {},
   "outputs": [],
   "source": [
    "# !pip install umap-learn -q"
   ]
  },
  {
   "cell_type": "markdown",
   "id": "62f03f70-3b72-406d-a796-d62c3037a269",
   "metadata": {},
   "source": [
    "# 1.0 Loading Data"
   ]
  },
  {
   "cell_type": "code",
   "execution_count": 7,
   "id": "6b58e5be-df5e-486f-8dde-4196a1456378",
   "metadata": {},
   "outputs": [
    {
     "data": {
      "application/vnd.jupyter.widget-view+json": {
       "model_id": "7c92387656ff4e5a88eb729662d4c1d3",
       "version_major": 2,
       "version_minor": 0
      },
      "text/plain": [
       "Query is running:   0%|          |"
      ]
     },
     "metadata": {},
     "output_type": "display_data"
    },
    {
     "data": {
      "application/vnd.jupyter.widget-view+json": {
       "model_id": "756c65afb3eb4f9bbaf03da1517deffa",
       "version_major": 2,
       "version_minor": 0
      },
      "text/plain": [
       "Downloading:   0%|          |"
      ]
     },
     "metadata": {},
     "output_type": "display_data"
    }
   ],
   "source": [
    "%%bigquery df_raw\n",
    "\n",
    "SELECT * FROM gcpproject-394221.ecommerce_database.ecommerce_table2 WHERE InvoiceDate <= \"2023-05-15\""
   ]
  },
  {
   "cell_type": "code",
   "execution_count": 8,
   "id": "36f5782d-8dbe-4e32-aa65-b2ff1f8e1663",
   "metadata": {},
   "outputs": [
    {
     "data": {
      "text/html": [
       "<div>\n",
       "<style scoped>\n",
       "    .dataframe tbody tr th:only-of-type {\n",
       "        vertical-align: middle;\n",
       "    }\n",
       "\n",
       "    .dataframe tbody tr th {\n",
       "        vertical-align: top;\n",
       "    }\n",
       "\n",
       "    .dataframe thead th {\n",
       "        text-align: right;\n",
       "    }\n",
       "</style>\n",
       "<table border=\"1\" class=\"dataframe\">\n",
       "  <thead>\n",
       "    <tr style=\"text-align: right;\">\n",
       "      <th></th>\n",
       "      <th>InvoiceNo</th>\n",
       "      <th>StockCode</th>\n",
       "      <th>Description</th>\n",
       "      <th>Quantity</th>\n",
       "      <th>InvoiceDate</th>\n",
       "      <th>UnitPrice</th>\n",
       "      <th>CustomerID</th>\n",
       "      <th>Country</th>\n",
       "    </tr>\n",
       "  </thead>\n",
       "  <tbody>\n",
       "    <tr>\n",
       "      <th>0</th>\n",
       "      <td>564085</td>\n",
       "      <td>C2</td>\n",
       "      <td>CARRIAGE</td>\n",
       "      <td>1</td>\n",
       "      <td>2017-08-21</td>\n",
       "      <td>50.00</td>\n",
       "      <td>14911.0</td>\n",
       "      <td>EIRE</td>\n",
       "    </tr>\n",
       "    <tr>\n",
       "      <th>1</th>\n",
       "      <td>C564084</td>\n",
       "      <td>23574</td>\n",
       "      <td>PACKING CHARGE</td>\n",
       "      <td>-1</td>\n",
       "      <td>2017-08-21</td>\n",
       "      <td>7.50</td>\n",
       "      <td>14911.0</td>\n",
       "      <td>EIRE</td>\n",
       "    </tr>\n",
       "    <tr>\n",
       "      <th>2</th>\n",
       "      <td>C564138</td>\n",
       "      <td>20979</td>\n",
       "      <td>36 PENCILS TUBE RED RETROSPOT</td>\n",
       "      <td>-16</td>\n",
       "      <td>2017-08-21</td>\n",
       "      <td>1.25</td>\n",
       "      <td>12753.0</td>\n",
       "      <td>Japan</td>\n",
       "    </tr>\n",
       "    <tr>\n",
       "      <th>3</th>\n",
       "      <td>C564138</td>\n",
       "      <td>22637</td>\n",
       "      <td>PIGGY BANK RETROSPOT</td>\n",
       "      <td>-2</td>\n",
       "      <td>2017-08-21</td>\n",
       "      <td>2.10</td>\n",
       "      <td>12753.0</td>\n",
       "      <td>Japan</td>\n",
       "    </tr>\n",
       "    <tr>\n",
       "      <th>4</th>\n",
       "      <td>C564138</td>\n",
       "      <td>21218</td>\n",
       "      <td>RED SPOTTY BISCUIT TIN</td>\n",
       "      <td>-3</td>\n",
       "      <td>2017-08-21</td>\n",
       "      <td>3.25</td>\n",
       "      <td>12753.0</td>\n",
       "      <td>Japan</td>\n",
       "    </tr>\n",
       "  </tbody>\n",
       "</table>\n",
       "</div>"
      ],
      "text/plain": [
       "  InvoiceNo StockCode                    Description  Quantity InvoiceDate  \\\n",
       "0    564085        C2                       CARRIAGE         1  2017-08-21   \n",
       "1   C564084     23574                 PACKING CHARGE        -1  2017-08-21   \n",
       "2   C564138     20979  36 PENCILS TUBE RED RETROSPOT       -16  2017-08-21   \n",
       "3   C564138     22637          PIGGY BANK RETROSPOT         -2  2017-08-21   \n",
       "4   C564138     21218         RED SPOTTY BISCUIT TIN        -3  2017-08-21   \n",
       "\n",
       "   UnitPrice  CustomerID Country  \n",
       "0      50.00     14911.0    EIRE  \n",
       "1       7.50     14911.0    EIRE  \n",
       "2       1.25     12753.0   Japan  \n",
       "3       2.10     12753.0   Japan  \n",
       "4       3.25     12753.0   Japan  "
      ]
     },
     "execution_count": 8,
     "metadata": {},
     "output_type": "execute_result"
    }
   ],
   "source": [
    "df_raw.head()"
   ]
  },
  {
   "cell_type": "markdown",
   "id": "27ef7840-a1c5-4d4a-ace5-7de4cbbdac79",
   "metadata": {},
   "source": [
    "## 1.1 Rename Columns"
   ]
  },
  {
   "cell_type": "code",
   "execution_count": 9,
   "id": "23bfc60c-81b7-43b9-89aa-d20dba50b489",
   "metadata": {},
   "outputs": [],
   "source": [
    "# Mudar para snake case\n",
    "old_cols = ['InvoiceNo', 'StockCode', 'Description', 'Quantity', 'InvoiceDate',\n",
    "       'UnitPrice', 'CustomerID', 'Country']\n",
    "\n",
    "snake_case = lambda x: inflection.underscore(x)\n",
    "\n",
    "new_cols = list( map(snake_case, old_cols))\n",
    "df_raw.columns = new_cols"
   ]
  },
  {
   "cell_type": "markdown",
   "id": "e26e182f-817a-4ff8-a98d-21b9debde0b7",
   "metadata": {},
   "source": [
    "## 1.2 Data Dimensions"
   ]
  },
  {
   "cell_type": "code",
   "execution_count": 10,
   "id": "abd0623c-4814-496c-8c7b-0f588699d164",
   "metadata": {},
   "outputs": [
    {
     "name": "stdout",
     "output_type": "stream",
     "text": [
      "Número de linhas do conjunto de dados: 404772\n",
      "Número de colunas do conjunto de dados: 8\n"
     ]
    }
   ],
   "source": [
    "print(\"Número de linhas do conjunto de dados: {}\".format(df_raw.shape[0]))\n",
    "print(\"Número de colunas do conjunto de dados: {}\".format(df_raw.shape[1]))"
   ]
  },
  {
   "cell_type": "markdown",
   "id": "6e3dcce6-81cf-4239-8405-1248e930f3ee",
   "metadata": {},
   "source": [
    "## 1.3 Data Types"
   ]
  },
  {
   "cell_type": "code",
   "execution_count": 11,
   "id": "271824d1-b417-44f6-98e8-9fbac56a8356",
   "metadata": {},
   "outputs": [
    {
     "data": {
      "text/plain": [
       "invoice_no       object\n",
       "stock_code       object\n",
       "description      object\n",
       "quantity          Int64\n",
       "invoice_date     dbdate\n",
       "unit_price      float64\n",
       "customer_id     float64\n",
       "country          object\n",
       "dtype: object"
      ]
     },
     "execution_count": 11,
     "metadata": {},
     "output_type": "execute_result"
    }
   ],
   "source": [
    "df_raw.dtypes"
   ]
  },
  {
   "cell_type": "markdown",
   "id": "cde2fd25-0534-4e08-80a8-390893ac0830",
   "metadata": {},
   "source": [
    "## 1.4 Change Types"
   ]
  },
  {
   "cell_type": "code",
   "execution_count": 12,
   "id": "b5575ba2-de63-44f0-bfce-98b5defba222",
   "metadata": {},
   "outputs": [],
   "source": [
    "df_raw['invoice_date'] = pd.to_datetime(df_raw['invoice_date'])\n",
    "df_raw['customer_id'] = df_raw['customer_id'].astype(int)"
   ]
  },
  {
   "cell_type": "markdown",
   "id": "00a6f8ec-4124-4765-a89e-b8c9a3558151",
   "metadata": {},
   "source": [
    "# 2.0 Data Preparation"
   ]
  },
  {
   "cell_type": "code",
   "execution_count": 13,
   "id": "086277ca-3e0c-44bc-b6e6-9c097e3ec796",
   "metadata": {},
   "outputs": [],
   "source": [
    "def coluna_para_int(dataframe: pd.DataFrame, nome_coluna: str) -> bool:\n",
    "    \"\"\"\n",
    "    Converte a coluna especificada em um dataframe para o tipo inteiro.\n",
    "\n",
    "    Args:\n",
    "        dataframe (pd.DataFrame): O dataframe a ser processado.\n",
    "        nome_coluna (str): O nome da coluna a ser convertida.\n",
    "\n",
    "    Returns:\n",
    "        bool: True se a conversão foi bem sucedida, False caso contrário.\n",
    "    \"\"\"\n",
    "    \n",
    "    if nome_coluna not in dataframe.columns:\n",
    "        raise ValueError(f'Coluna {nome_coluna} nao encontrada')\n",
    "        \n",
    "    try:\n",
    "        dataframe[nome_coluna] = dataframe[nome_coluna].astype(int)\n",
    "    except:\n",
    "        raise ValueError(f'Nao foi possivel converter a coluna {nome_coluna} para inteiro.')\n",
    "    return True"
   ]
  },
  {
   "cell_type": "code",
   "execution_count": 14,
   "id": "a778385e-3054-49c0-9e86-1b973373da3f",
   "metadata": {},
   "outputs": [
    {
     "data": {
      "text/plain": [
       "True"
      ]
     },
     "execution_count": 14,
     "metadata": {},
     "output_type": "execute_result"
    }
   ],
   "source": [
    "coluna_para_int(df_raw, 'customer_id')"
   ]
  },
  {
   "cell_type": "code",
   "execution_count": 15,
   "id": "38c61959-ba0a-427e-b209-05d50e7507d6",
   "metadata": {},
   "outputs": [],
   "source": [
    "def coluna_para_date(dataframe: pd.DataFrame, nome_coluna: str, formato_data: str = None) -> bool: \n",
    "    \"\"\"\n",
    "    Descricao\n",
    "    \n",
    "    Args:\n",
    "    \n",
    "    Retornos:\n",
    "    \"\"\"\n",
    "    \n",
    "    if nome_coluna not in dataframe.columns:\n",
    "        raise ValueError(f'Coluna {nome_coluna} nao foi encontrada no dataframe de entrada')\n",
    "\n",
    "    try:\n",
    "        if formato_data:\n",
    "            dataframe[nome_coluna] = pd.to_datetime(dataframe[nome_coluna], format=formato_data)\n",
    "        else:\n",
    "            dataframe[nome_coluna] = pd.to_datetime(dataframe[nome_coluna])\n",
    "    except (ValueError, TypeError):\n",
    "        raise ValueError(f\"Could not convert column '{nome_coluna}'\")\n",
    "\n",
    "    # Retorna True se a conversão foi bem sucedida\n",
    "    return True"
   ]
  },
  {
   "cell_type": "code",
   "execution_count": 16,
   "id": "101a9717-aa92-49d1-a937-c7208e2d8809",
   "metadata": {},
   "outputs": [],
   "source": [
    "def keep_features(dataframe: pd.DataFrame, keep_columns: list) -> pd.DataFrame:\n",
    "    \"\"\"\n",
    "    Retorna um DataFrame com as colunas especificadas em keep_columns.\n",
    "    \n",
    "    Args:\n",
    "        dataframe (pd.DataFrame): O DataFrame a ser processado.\n",
    "        keep_columns (list): A lista de nomes de colunas a serem mantidas no DataFrame resultante.\n",
    "\n",
    "    Returns:\n",
    "        pd.DataFrame: O DataFrame resultante com apenas as colunas especificadas em keep_columns.\n",
    "    \"\"\"\n",
    "    return dataframe[keep_columns]\n",
    "\n",
    "def filtragem_features(dataframe_raw: pd.DataFrame) -> Tuple[pd.DataFrame, pd.DataFrame, pd.DataFrame]:\n",
    "    \"\"\"\n",
    "    Descricao\n",
    "    \n",
    "    Args:\n",
    "    \n",
    "    Retornos:\n",
    "    \"\"\"\n",
    "    df_returns = dataframe_raw.loc[dataframe_raw['quantity'] < 0, ['customer_id', \n",
    "                                                                   'quantity']]\n",
    "    df_purchases = dataframe_raw.loc[dataframe_raw['quantity'] >= 0, :]\n",
    "    \n",
    "    # Filter main data\n",
    "    df_filtered = keep_features(dataframe_raw, ['invoice_no', 'stock_code', 'quantity',\n",
    "                                                'invoice_date', 'unit_price', \n",
    "                                                'customer_id', 'country'])\n",
    "    \n",
    "    return df_filtered, df_purchases, df_returns"
   ]
  },
  {
   "cell_type": "code",
   "execution_count": 17,
   "id": "b4ab0a9f-4d59-4016-b9c0-8781f62cba74",
   "metadata": {},
   "outputs": [
    {
     "data": {
      "text/plain": [
       "Index(['invoice_no', 'stock_code', 'description', 'quantity', 'invoice_date',\n",
       "       'unit_price', 'customer_id', 'country'],\n",
       "      dtype='object')"
      ]
     },
     "execution_count": 17,
     "metadata": {},
     "output_type": "execute_result"
    }
   ],
   "source": [
    "df_raw.columns"
   ]
  },
  {
   "cell_type": "code",
   "execution_count": 18,
   "id": "f036a239-57e0-4769-8613-6ecc6e2b5c16",
   "metadata": {},
   "outputs": [],
   "source": [
    "df_filtered, df_purchases, df_returns = filtragem_features(df_raw)"
   ]
  },
  {
   "cell_type": "code",
   "execution_count": 19,
   "id": "32db1fe6-4403-46a7-bd3a-bd81779bd3de",
   "metadata": {},
   "outputs": [
    {
     "data": {
      "text/html": [
       "<div>\n",
       "<style scoped>\n",
       "    .dataframe tbody tr th:only-of-type {\n",
       "        vertical-align: middle;\n",
       "    }\n",
       "\n",
       "    .dataframe tbody tr th {\n",
       "        vertical-align: top;\n",
       "    }\n",
       "\n",
       "    .dataframe thead th {\n",
       "        text-align: right;\n",
       "    }\n",
       "</style>\n",
       "<table border=\"1\" class=\"dataframe\">\n",
       "  <thead>\n",
       "    <tr style=\"text-align: right;\">\n",
       "      <th></th>\n",
       "      <th>invoice_no</th>\n",
       "      <th>stock_code</th>\n",
       "      <th>quantity</th>\n",
       "      <th>invoice_date</th>\n",
       "      <th>unit_price</th>\n",
       "      <th>customer_id</th>\n",
       "      <th>country</th>\n",
       "    </tr>\n",
       "  </thead>\n",
       "  <tbody>\n",
       "    <tr>\n",
       "      <th>0</th>\n",
       "      <td>564085</td>\n",
       "      <td>C2</td>\n",
       "      <td>1</td>\n",
       "      <td>2017-08-21</td>\n",
       "      <td>50.0</td>\n",
       "      <td>14911</td>\n",
       "      <td>EIRE</td>\n",
       "    </tr>\n",
       "  </tbody>\n",
       "</table>\n",
       "</div>"
      ],
      "text/plain": [
       "  invoice_no stock_code  quantity invoice_date  unit_price  customer_id  \\\n",
       "0     564085         C2         1   2017-08-21        50.0        14911   \n",
       "\n",
       "  country  \n",
       "0    EIRE  "
      ]
     },
     "execution_count": 19,
     "metadata": {},
     "output_type": "execute_result"
    }
   ],
   "source": [
    "df_filtered.head(1)"
   ]
  },
  {
   "cell_type": "code",
   "execution_count": 20,
   "id": "231c894e-0723-4569-a358-1313a0a07769",
   "metadata": {},
   "outputs": [
    {
     "data": {
      "text/html": [
       "<div>\n",
       "<style scoped>\n",
       "    .dataframe tbody tr th:only-of-type {\n",
       "        vertical-align: middle;\n",
       "    }\n",
       "\n",
       "    .dataframe tbody tr th {\n",
       "        vertical-align: top;\n",
       "    }\n",
       "\n",
       "    .dataframe thead th {\n",
       "        text-align: right;\n",
       "    }\n",
       "</style>\n",
       "<table border=\"1\" class=\"dataframe\">\n",
       "  <thead>\n",
       "    <tr style=\"text-align: right;\">\n",
       "      <th></th>\n",
       "      <th>invoice_no</th>\n",
       "      <th>stock_code</th>\n",
       "      <th>description</th>\n",
       "      <th>quantity</th>\n",
       "      <th>invoice_date</th>\n",
       "      <th>unit_price</th>\n",
       "      <th>customer_id</th>\n",
       "      <th>country</th>\n",
       "    </tr>\n",
       "  </thead>\n",
       "  <tbody>\n",
       "    <tr>\n",
       "      <th>0</th>\n",
       "      <td>564085</td>\n",
       "      <td>C2</td>\n",
       "      <td>CARRIAGE</td>\n",
       "      <td>1</td>\n",
       "      <td>2017-08-21</td>\n",
       "      <td>50.0</td>\n",
       "      <td>14911</td>\n",
       "      <td>EIRE</td>\n",
       "    </tr>\n",
       "  </tbody>\n",
       "</table>\n",
       "</div>"
      ],
      "text/plain": [
       "  invoice_no stock_code description  quantity invoice_date  unit_price  \\\n",
       "0     564085         C2    CARRIAGE         1   2017-08-21        50.0   \n",
       "\n",
       "   customer_id country  \n",
       "0        14911    EIRE  "
      ]
     },
     "execution_count": 20,
     "metadata": {},
     "output_type": "execute_result"
    }
   ],
   "source": [
    "df_purchases.head(1)"
   ]
  },
  {
   "cell_type": "code",
   "execution_count": 21,
   "id": "6b88e609-7198-410d-9886-ced48e531252",
   "metadata": {},
   "outputs": [
    {
     "data": {
      "text/html": [
       "<div>\n",
       "<style scoped>\n",
       "    .dataframe tbody tr th:only-of-type {\n",
       "        vertical-align: middle;\n",
       "    }\n",
       "\n",
       "    .dataframe tbody tr th {\n",
       "        vertical-align: top;\n",
       "    }\n",
       "\n",
       "    .dataframe thead th {\n",
       "        text-align: right;\n",
       "    }\n",
       "</style>\n",
       "<table border=\"1\" class=\"dataframe\">\n",
       "  <thead>\n",
       "    <tr style=\"text-align: right;\">\n",
       "      <th></th>\n",
       "      <th>customer_id</th>\n",
       "      <th>quantity</th>\n",
       "    </tr>\n",
       "  </thead>\n",
       "  <tbody>\n",
       "    <tr>\n",
       "      <th>1</th>\n",
       "      <td>14911</td>\n",
       "      <td>-1</td>\n",
       "    </tr>\n",
       "  </tbody>\n",
       "</table>\n",
       "</div>"
      ],
      "text/plain": [
       "   customer_id  quantity\n",
       "1        14911        -1"
      ]
     },
     "execution_count": 21,
     "metadata": {},
     "output_type": "execute_result"
    }
   ],
   "source": [
    "df_returns.head(1)"
   ]
  },
  {
   "cell_type": "markdown",
   "id": "8c55f704-8977-49ed-a0d6-a257323dd761",
   "metadata": {},
   "source": [
    "# 3.0. Feature engineering"
   ]
  },
  {
   "cell_type": "code",
   "execution_count": 22,
   "id": "802d16f5-7339-4a47-a5e2-3ab628303c5a",
   "metadata": {},
   "outputs": [],
   "source": [
    "def calculate_gross_revenue(dataframe_purchases: pd.DataFrame) -> pd.DataFrame:\n",
    "    \"\"\"\n",
    "    Calcula a receita bruta de cada cliente com base nas colunas 'Quantity' e 'UnitPrice' e retorna\n",
    "    um DataFrame com as colunas 'CustomerID' e 'gross_revenue'.\n",
    "\n",
    "    Args:\n",
    "        dataframe_purchases (pd.DataFrame): O DataFrame das compras contendo as colunas 'CustomerID', 'Quantity' e 'UnitPrice'.\n",
    "\n",
    "    Returns:\n",
    "        pd.DataFrame: O DataFrame resultante contendo as colunas 'CustomerID' e 'gross_revenue'.\n",
    "    \"\"\"\n",
    "    # Verifica se as colunas necessárias estão presentes no DataFrame de entrada\n",
    "    required_columns = {'customer_id', 'quantity', 'unit_price'}\n",
    "    missing_columns = required_columns - set(dataframe_purchases.columns)\n",
    "    if missing_columns:\n",
    "        raise ValueError(f\"O DataFrame de entrada está faltando as seguintes colunas: {missing_columns}\")\n",
    "    \n",
    "    # Calcula a receita bruta e agrupa por CustomerID\n",
    "    df = dataframe_purchases.copy()\n",
    "    df.loc[:, 'gross_revenue'] = df.loc[:, 'quantity'] * df.loc[:, 'unit_price']\n",
    "    grouped_df = df.groupby('customer_id').agg({'gross_revenue': 'sum'}).reset_index().copy()\n",
    "    \n",
    "    return grouped_df\n",
    "\n",
    "def create_recency(dataframe_purchases: pd.DataFrame, dataframe_filtered: pd.DataFrame) -> pd.DataFrame:\n",
    "    \"\"\"\n",
    "    Calcula a recência da última compra para cada cliente.\n",
    "\n",
    "    Args:\n",
    "        dataframe_purchases (pd.DataFrame): DataFrame com as informações de compras de todos os clientes.\n",
    "        dataframe_filtered (pd.DataFrame): DataFrame filtrado apenas com as informações dos clientes que desejamos calcular a recência.\n",
    "\n",
    "    Returns:\n",
    "        pd.DataFrame: DataFrame com as colunas 'CustomerID' e 'recency_days', indicando a recência em dias da última compra para cada cliente.\n",
    "\n",
    "    \"\"\"\n",
    "    required_columns = {'customer_id', 'invoice_date'}\n",
    "    missing_columns = required_columns - set(dataframe_purchases.columns)\n",
    "    if missing_columns:\n",
    "        raise ValueError(f\"O DataFrame de entrada está faltando as seguintes colunas: {missing_columns}\")\n",
    "    # calcula a data da última compra de cada cliente\n",
    "    df_recency = dataframe_purchases.loc[:, ['customer_id', 'invoice_date']].groupby('customer_id').max().reset_index()\n",
    "    \n",
    "    # calcula a recência em dias da última compra de cada cliente em relação à data mais recente da base de dados filtrada\n",
    "    df_recency['recency_days'] = (dataframe_filtered['invoice_date'].max() - df_recency['invoice_date']).dt.days\n",
    "    \n",
    "    # retorna o DataFrame apenas com as colunas 'CustomerID' e 'recency_days'\n",
    "    return df_recency[['customer_id', 'recency_days']]\n",
    "\n",
    "def create_quantity_purchased(dataframe_purchases: pd.DataFrame) -> pd.DataFrame:\n",
    "    \"\"\"\n",
    "    Calcula a quantidade de produtos adquiridos por cada cliente.\n",
    "\n",
    "    Args:\n",
    "        dataframe_purchases (pd.DataFrame): DataFrame com as informações de compras de todos os clientes.\n",
    "\n",
    "    Returns:\n",
    "        pd.DataFrame: DataFrame com as colunas 'CustomerID' e 'qty_products', indicando a quantidade de produtos adquiridos por cada cliente.\n",
    "    \"\"\"\n",
    "    required_columns = {'customer_id', 'stock_code'}\n",
    "    missing_columns = required_columns - set(dataframe_purchases.columns)\n",
    "    if missing_columns:\n",
    "        raise ValueError(f\"O DataFrame de entrada está faltando as seguintes colunas: {missing_columns}\")\n",
    "    # agrupa as informações de compras por CustomerID e conta o número de StockCode para cada grupo\n",
    "    qty_purchased = dataframe_purchases.loc[:, ['customer_id', 'stock_code']].groupby('customer_id').count()\n",
    "    \n",
    "    # renomeia a coluna StockCode para qty_products e reseta o índice para transformar o CustomerID em uma coluna\n",
    "    qty_purchased = qty_purchased.reset_index().rename(columns={'stock_code': 'qty_products'})\n",
    "    \n",
    "    # retorna o DataFrame com as colunas 'CustomerID' e 'qty_products'\n",
    "    return qty_purchased\n",
    "def create_freq_purchases(dataframe_purchases: pd.DataFrame) -> pd.DataFrame:\n",
    "    \"\"\"\n",
    "    Calculates the purchase frequency of each customer based on the purchase history.\n",
    "\n",
    "    Parameters\n",
    "    ----------\n",
    "    dataframe_purchases : pd.DataFrame\n",
    "        DataFrame with purchase history of each customer, containing columns CustomerID, InvoiceNo, and InvoiceDate.\n",
    "\n",
    "    Returns\n",
    "    -------\n",
    "    pd.DataFrame\n",
    "        DataFrame with the purchase frequency of each customer, containing columns CustomerID and frequency.\n",
    "    \"\"\"\n",
    "    required_columns = {'customer_id', 'invoice_no', 'invoice_date'}\n",
    "    missing_columns = required_columns - set(dataframe_purchases.columns)\n",
    "    if missing_columns:\n",
    "        raise ValueError(f\"O DataFrame de entrada está faltando as seguintes colunas: {missing_columns}\")\n",
    "\n",
    "    # Calculate time range of purchases for each customer\n",
    "    df_aux = (dataframe_purchases[['customer_id', 'invoice_no', 'invoice_date']]\n",
    "              .drop_duplicates()\n",
    "              .groupby('customer_id')\n",
    "              .agg(max_=('invoice_date', 'max'),\n",
    "                   min_=('invoice_date', 'min'),\n",
    "                   days_=('invoice_date', lambda x: ((x.max() - x.min()).days) + 1),\n",
    "                   buy_=('invoice_no', 'count'))\n",
    "              .reset_index())\n",
    "\n",
    "    # Calculate frequency of purchases for each customer\n",
    "    df_aux['frequency'] = df_aux[['buy_', 'days_']].apply(\n",
    "        lambda x: x['buy_'] / x['days_'] if x['days_'] != 0 else 0, axis=1)\n",
    "\n",
    "    return df_aux\n",
    "def create_qty_returns(dataframe_returns: pd.DataFrame) -> pd.DataFrame:\n",
    "    \"\"\"\n",
    "    Computes the total quantity of returned products for each customer.\n",
    "\n",
    "    Args:\n",
    "        dataframe_returns: A pandas DataFrame containing information about returns.\n",
    "\n",
    "    Returns:\n",
    "        A pandas DataFrame with the total quantity of returned products for each customer.\n",
    "    \"\"\"\n",
    "    # Validate input data\n",
    "    \n",
    "    if not all(col in dataframe_returns.columns for col in ['customer_id', 'quantity']):\n",
    "        raise ValueError(\"Input DataFrame must contain 'CustomerID' and 'Quantity' columns\")\n",
    "    \n",
    "    # Compute quantity of returns\n",
    "    df_returns = dataframe_returns[['customer_id', 'quantity']].groupby('customer_id').sum().reset_index().rename(columns={'quantity': 'qty_returns'})\n",
    "    df_returns['qty_returns'] = df_returns['qty_returns']* -1\n",
    "    \n",
    "    return df_returns\n",
    "def run_feature_engineering(dataframe_filtered: pd.DataFrame, dataframe_purchases: pd.DataFrame, dataframe_returns: pd.DataFrame) -> pd.DataFrame:\n",
    "    \"\"\"\n",
    "    Performs feature engineering on the input dataframes and returns a new dataframe with the engineered features.\n",
    "\n",
    "    Args:\n",
    "        dataframe_filtered: A pandas DataFrame containing filtered customer order data.\n",
    "        dataframe_purchases: A pandas DataFrame containing customer purchase data.\n",
    "        dataframe_returns: A pandas DataFrame containing customer return data.\n",
    "\n",
    "    Returns:\n",
    "        A pandas DataFrame with the engineered features for each customer.\n",
    "    \"\"\"\n",
    "    # Check if input dataframes are empty\n",
    "    if dataframe_filtered.empty:\n",
    "        raise ValueError(\"Input DataFrame 'dataframe_filtered' is empty\")\n",
    "    if dataframe_purchases.empty:\n",
    "        raise ValueError(\"Input DataFrame 'dataframe_purchases' is empty\")\n",
    "\n",
    "    # Check if required columns are present in input dataframes\n",
    "    required_columns = ['customer_id', 'invoice_date', 'stock_code', 'quantity', 'unit_price']\n",
    "    for df, name in zip([dataframe_filtered, dataframe_purchases], ['dataframe_filtered', 'dataframe_purchases']):\n",
    "        missing_columns = set(required_columns) - set(df.columns)\n",
    "        if missing_columns:\n",
    "            raise ValueError(f\"Missing columns {missing_columns} in input DataFrame '{name}'\")\n",
    "    if 'customer_id' not in dataframe_returns.columns:\n",
    "        raise ValueError(\"Column 'CustomerID' not found in input DataFrame 'dataframe_returns'\")\n",
    "    if 'quantity' not in dataframe_returns.columns:\n",
    "        raise ValueError(\"Column 'Quantity' not found in input DataFrame 'dataframe_returns'\")\n",
    "\n",
    "    # Perform feature engineering\n",
    "    df_fengi = keep_features(dataframe_filtered, ['customer_id']).drop_duplicates(ignore_index=True)\n",
    "    gross_revenue = calculate_gross_revenue(dataframe_purchases)\n",
    "    df_recency = create_recency(dataframe_purchases, dataframe_filtered)\n",
    "    df_qty_products = create_quantity_purchased(dataframe_purchases)\n",
    "    df_freq = create_freq_purchases(dataframe_purchases)\n",
    "    returns = create_qty_returns(dataframe_returns)\n",
    "    \n",
    "    # Merge dataframes\n",
    "    dfs = [df_fengi, gross_revenue, df_recency, df_qty_products, df_freq, returns]\n",
    "    df_fengi = reduce(lambda left,right: pd.merge(left, right, on='customer_id', how='left'), dfs)\n",
    "\n",
    "    # Fill NaN values\n",
    "    df_fengi['qty_returns'] = df_fengi['qty_returns'].fillna(0)\n",
    "\n",
    "    # Select final features and return dataframe\n",
    "    features = ['customer_id', 'gross_revenue', 'recency_days', 'qty_products', 'frequency', 'qty_returns']\n",
    "    return keep_features(df_fengi, features).dropna()"
   ]
  },
  {
   "cell_type": "code",
   "execution_count": 23,
   "id": "ee142ee8-8ddd-442d-b716-e27d822e62bc",
   "metadata": {},
   "outputs": [
    {
     "data": {
      "text/html": [
       "<div>\n",
       "<style scoped>\n",
       "    .dataframe tbody tr th:only-of-type {\n",
       "        vertical-align: middle;\n",
       "    }\n",
       "\n",
       "    .dataframe tbody tr th {\n",
       "        vertical-align: top;\n",
       "    }\n",
       "\n",
       "    .dataframe thead th {\n",
       "        text-align: right;\n",
       "    }\n",
       "</style>\n",
       "<table border=\"1\" class=\"dataframe\">\n",
       "  <thead>\n",
       "    <tr style=\"text-align: right;\">\n",
       "      <th></th>\n",
       "      <th>customer_id</th>\n",
       "      <th>gross_revenue</th>\n",
       "      <th>recency_days</th>\n",
       "      <th>qty_products</th>\n",
       "      <th>frequency</th>\n",
       "      <th>qty_returns</th>\n",
       "    </tr>\n",
       "  </thead>\n",
       "  <tbody>\n",
       "    <tr>\n",
       "      <th>0</th>\n",
       "      <td>14911</td>\n",
       "      <td>140450.72</td>\n",
       "      <td>1.0</td>\n",
       "      <td>5673.0</td>\n",
       "      <td>0.533512</td>\n",
       "      <td>3332</td>\n",
       "    </tr>\n",
       "    <tr>\n",
       "      <th>1</th>\n",
       "      <td>12753</td>\n",
       "      <td>21429.39</td>\n",
       "      <td>22.0</td>\n",
       "      <td>197.0</td>\n",
       "      <td>0.017595</td>\n",
       "      <td>171</td>\n",
       "    </tr>\n",
       "    <tr>\n",
       "      <th>2</th>\n",
       "      <td>12567</td>\n",
       "      <td>8609.28</td>\n",
       "      <td>22.0</td>\n",
       "      <td>438.0</td>\n",
       "      <td>0.028736</td>\n",
       "      <td>216</td>\n",
       "    </tr>\n",
       "    <tr>\n",
       "      <th>3</th>\n",
       "      <td>12593</td>\n",
       "      <td>382.1</td>\n",
       "      <td>108.0</td>\n",
       "      <td>20.0</td>\n",
       "      <td>0.027027</td>\n",
       "      <td>0</td>\n",
       "    </tr>\n",
       "    <tr>\n",
       "      <th>4</th>\n",
       "      <td>12428</td>\n",
       "      <td>6405.26</td>\n",
       "      <td>25.0</td>\n",
       "      <td>287.0</td>\n",
       "      <td>0.030888</td>\n",
       "      <td>32</td>\n",
       "    </tr>\n",
       "  </tbody>\n",
       "</table>\n",
       "</div>"
      ],
      "text/plain": [
       "   customer_id  gross_revenue  recency_days  qty_products  frequency  \\\n",
       "0        14911      140450.72           1.0        5673.0   0.533512   \n",
       "1        12753       21429.39          22.0         197.0   0.017595   \n",
       "2        12567        8609.28          22.0         438.0   0.028736   \n",
       "3        12593          382.1         108.0          20.0   0.027027   \n",
       "4        12428        6405.26          25.0         287.0   0.030888   \n",
       "\n",
       "   qty_returns  \n",
       "0         3332  \n",
       "1          171  \n",
       "2          216  \n",
       "3            0  \n",
       "4           32  "
      ]
     },
     "execution_count": 23,
     "metadata": {},
     "output_type": "execute_result"
    }
   ],
   "source": [
    "df_fengi = run_feature_engineering(df_filtered, df_purchases, df_returns)\n",
    "df_fengi.head()"
   ]
  },
  {
   "cell_type": "code",
   "execution_count": 24,
   "id": "0b7f6464-0c43-4652-8ccc-4f7530e43457",
   "metadata": {},
   "outputs": [
    {
     "data": {
      "text/plain": [
       "(4330, 6)"
      ]
     },
     "execution_count": 24,
     "metadata": {},
     "output_type": "execute_result"
    }
   ],
   "source": [
    "df_fengi.shape"
   ]
  },
  {
   "cell_type": "markdown",
   "id": "4c891276-9d27-42d2-9881-6bfe3f478bab",
   "metadata": {},
   "source": [
    "# 4.0. EDA"
   ]
  },
  {
   "cell_type": "code",
   "execution_count": 25,
   "id": "a681b17f-3913-467a-abb3-5ca3760b0955",
   "metadata": {},
   "outputs": [
    {
     "data": {
      "text/html": [
       "<div>\n",
       "<style scoped>\n",
       "    .dataframe tbody tr th:only-of-type {\n",
       "        vertical-align: middle;\n",
       "    }\n",
       "\n",
       "    .dataframe tbody tr th {\n",
       "        vertical-align: top;\n",
       "    }\n",
       "\n",
       "    .dataframe thead th {\n",
       "        text-align: right;\n",
       "    }\n",
       "</style>\n",
       "<table border=\"1\" class=\"dataframe\">\n",
       "  <thead>\n",
       "    <tr style=\"text-align: right;\">\n",
       "      <th></th>\n",
       "      <th>gross_revenue</th>\n",
       "      <th>recency_days</th>\n",
       "      <th>qty_products</th>\n",
       "      <th>frequency</th>\n",
       "      <th>qty_returns</th>\n",
       "    </tr>\n",
       "  </thead>\n",
       "  <tbody>\n",
       "    <tr>\n",
       "      <th>0</th>\n",
       "      <td>140450.72</td>\n",
       "      <td>1.0</td>\n",
       "      <td>5673.0</td>\n",
       "      <td>0.533512</td>\n",
       "      <td>3332</td>\n",
       "    </tr>\n",
       "    <tr>\n",
       "      <th>1</th>\n",
       "      <td>21429.39</td>\n",
       "      <td>22.0</td>\n",
       "      <td>197.0</td>\n",
       "      <td>0.017595</td>\n",
       "      <td>171</td>\n",
       "    </tr>\n",
       "    <tr>\n",
       "      <th>2</th>\n",
       "      <td>8609.28</td>\n",
       "      <td>22.0</td>\n",
       "      <td>438.0</td>\n",
       "      <td>0.028736</td>\n",
       "      <td>216</td>\n",
       "    </tr>\n",
       "    <tr>\n",
       "      <th>3</th>\n",
       "      <td>382.1</td>\n",
       "      <td>108.0</td>\n",
       "      <td>20.0</td>\n",
       "      <td>0.027027</td>\n",
       "      <td>0</td>\n",
       "    </tr>\n",
       "    <tr>\n",
       "      <th>4</th>\n",
       "      <td>6405.26</td>\n",
       "      <td>25.0</td>\n",
       "      <td>287.0</td>\n",
       "      <td>0.030888</td>\n",
       "      <td>32</td>\n",
       "    </tr>\n",
       "  </tbody>\n",
       "</table>\n",
       "</div>"
      ],
      "text/plain": [
       "   gross_revenue  recency_days  qty_products  frequency  qty_returns\n",
       "0      140450.72           1.0        5673.0   0.533512         3332\n",
       "1       21429.39          22.0         197.0   0.017595          171\n",
       "2        8609.28          22.0         438.0   0.028736          216\n",
       "3          382.1         108.0          20.0   0.027027            0\n",
       "4        6405.26          25.0         287.0   0.030888           32"
      ]
     },
     "execution_count": 25,
     "metadata": {},
     "output_type": "execute_result"
    }
   ],
   "source": [
    "df_eda = keep_features(df_fengi, ['gross_revenue', 'recency_days', 'qty_products', 'frequency', 'qty_returns'])\n",
    "df_eda.head()"
   ]
  },
  {
   "cell_type": "markdown",
   "id": "8e233bf4-dc24-48db-9d4f-5a13cc6b3638",
   "metadata": {},
   "source": [
    "# 5.0. Experimentation"
   ]
  },
  {
   "cell_type": "markdown",
   "id": "36fc8497-7dd4-4990-ade6-a15d21201edc",
   "metadata": {},
   "source": [
    "## 5.1 K-Clusters"
   ]
  },
  {
   "cell_type": "code",
   "execution_count": 26,
   "id": "3ebab0ec-1c2d-433a-8c66-3e7fb6af39df",
   "metadata": {},
   "outputs": [
    {
     "data": {
      "text/plain": [
       "array([2, 3, 4])"
      ]
     },
     "execution_count": 26,
     "metadata": {},
     "output_type": "execute_result"
    }
   ],
   "source": [
    "k_clusters = np.arange(2, 5, 1)\n",
    "k_clusters"
   ]
  },
  {
   "cell_type": "markdown",
   "id": "ed1f0700-873e-49bf-9308-29fc12a27aa2",
   "metadata": {},
   "source": [
    "## 5.2. Scaler"
   ]
  },
  {
   "cell_type": "code",
   "execution_count": 27,
   "id": "58a9404a-bb6d-48b1-8780-33e330c2f2a5",
   "metadata": {},
   "outputs": [],
   "source": [
    "scaler = MinMaxScaler()"
   ]
  },
  {
   "cell_type": "markdown",
   "id": "a2cfcbbd-3a8d-4b44-9174-ddfd1166a212",
   "metadata": {},
   "source": [
    "## 5.3 Dimensionality reduction algorithms"
   ]
  },
  {
   "cell_type": "code",
   "execution_count": 28,
   "id": "57bde91f-7050-4a9a-9978-11f8aeca657c",
   "metadata": {},
   "outputs": [],
   "source": [
    "def train_pca(\n",
    "    scaler, dataframe: pd.DataFrame, to_scaling: bool = True, **kwargs\n",
    ") -> pd.DataFrame:\n",
    "    \"\"\"\n",
    "    Treina um modelo PCA no dataframe de entrada e aplica-o aos dados usando o scaler especificado.\n",
    "\n",
    "    Args:\n",
    "        scaler: objeto scaler para transformar os dados\n",
    "        dataframe (pd.DataFrame): dataframe de entrada\n",
    "        to_scaling (bool): indica se os dados devem ser escalados antes de aplicar o PCA (padrão True)\n",
    "        **kwargs: argumentos adicionais para a inicialização do modelo PCA\n",
    "    Raises:\n",
    "        ValueError: se o dataframe de entrada estiver vazio\n",
    "    \"\"\"\n",
    "    if dataframe.empty:\n",
    "        raise ValueError(\"Input dataframe is empty.\")\n",
    "\n",
    "    if to_scaling:\n",
    "        X = scaler.fit_transform(dataframe)\n",
    "    else:\n",
    "        X = dataframe.copy()\n",
    "    pca = PCA(**kwargs)\n",
    "    principal_components = pca.fit_transform(X)\n",
    "    df_pca = pd.DataFrame(principal_components)\n",
    "    return df_pca\n",
    "\n",
    "\n",
    "def train_umap(\n",
    "    scaler, dataframe: pd.DataFrame, to_scaling: bool = True, **kwargs\n",
    ") -> pd.DataFrame:\n",
    "    \"\"\" \"\"\"\n",
    "    if dataframe.empty:\n",
    "        raise ValueError(\"Input dataframe is empty.\")\n",
    "\n",
    "    if to_scaling:\n",
    "        X = scaler.fit_transform(dataframe)\n",
    "    else:\n",
    "        X = dataframe.copy()\n",
    "        \n",
    "    reducer = umap.UMAP(random_state=42, **kwargs)\n",
    "    embedding = reducer.fit_transform(X)\n",
    "\n",
    "    df_umap = pd.DataFrame()\n",
    "    df_umap[\"embedding_x\"] = embedding[:, 0]\n",
    "    df_umap[\"embedding_y\"] = embedding[:, 1]\n",
    "    return df_umap\n",
    "\n",
    "\n",
    "def train_tsne(\n",
    "    scaler, dataframe: pd.DataFrame, to_scaling: bool = True, **kwargs\n",
    ") -> pd.DataFrame:\n",
    "    \"\"\" \"\"\"\n",
    "    if dataframe.empty:\n",
    "        raise ValueError(\"Input dataframe is empty.\")\n",
    "\n",
    "    if to_scaling:\n",
    "        X = scaler.fit_transform(dataframe)\n",
    "    else:\n",
    "        X = dataframe.copy()\n",
    "\n",
    "    reducer = TSNE(random_state=42, **kwargs)\n",
    "    embedding = reducer.fit_transform(X)\n",
    "\n",
    "    df_tsne = pd.DataFrame()\n",
    "    df_tsne[\"embedding_x\"] = embedding[:, 0]\n",
    "    df_tsne[\"embedding_y\"] = embedding[:, 1]\n",
    "    return df_tsne\n",
    "\n",
    "def train_tree_embedding(scaler, dataframe: pd.DataFrame,\n",
    "    target: str = \"gross_revenue\", **kwargs\n",
    ") -> pd.DataFrame:\n",
    "    \"\"\"\n",
    "    \n",
    "    \"\"\"\n",
    "    \n",
    "    # Separate features and target variable\n",
    "    X = dataframe.drop(columns=[target], axis=1)\n",
    "    X = pd.DataFrame(scaler.fit_transform(X.values),\n",
    "                     columns=X.columns, \n",
    "                     index=X.index)\n",
    "    y = dataframe[target]\n",
    "    \n",
    "    # Define and train the model\n",
    "    rf_model = RandomForestRegressor(random_state=42, **kwargs)\n",
    "    rf_model.fit(X, y)\n",
    "\n",
    "    # Compute leaf indices for each sample\n",
    "    leaf_indices = rf_model.apply(X)\n",
    "\n",
    "    # Create DataFrame with leaf indices\n",
    "    df_leaf = pd.DataFrame(leaf_indices)\n",
    "\n",
    "    return df_leaf"
   ]
  },
  {
   "cell_type": "code",
   "execution_count": 29,
   "id": "483854e1-fa10-46b5-80f6-5134a759d0ff",
   "metadata": {},
   "outputs": [],
   "source": [
    "df_pca = train_pca(scaler, df_eda, n_components=2)"
   ]
  },
  {
   "cell_type": "code",
   "execution_count": 30,
   "id": "192b4ab7-5c9d-4634-be54-91fdd09b1004",
   "metadata": {},
   "outputs": [],
   "source": [
    "df_umap = train_umap(scaler, df_eda)"
   ]
  },
  {
   "cell_type": "code",
   "execution_count": 31,
   "id": "dde7f952-55c7-467e-9cd9-543aeb8c6fe8",
   "metadata": {},
   "outputs": [
    {
     "name": "stderr",
     "output_type": "stream",
     "text": [
      "/opt/conda/lib/python3.7/site-packages/sklearn/manifold/_t_sne.py:783: FutureWarning: The default initialization in TSNE will change from 'random' to 'pca' in 1.2.\n",
      "  FutureWarning,\n",
      "/opt/conda/lib/python3.7/site-packages/sklearn/manifold/_t_sne.py:793: FutureWarning: The default learning rate in TSNE will change from 200.0 to 'auto' in 1.2.\n",
      "  FutureWarning,\n"
     ]
    }
   ],
   "source": [
    "df_tsne = train_tsne(scaler, df_eda)"
   ]
  },
  {
   "cell_type": "code",
   "execution_count": 32,
   "id": "a7c6273f-387e-42d3-9eb5-436926c01944",
   "metadata": {},
   "outputs": [],
   "source": [
    "df_tree = train_tree_embedding(scaler, df_eda)"
   ]
  },
  {
   "cell_type": "code",
   "execution_count": 33,
   "id": "60261194-3d0b-4c1f-b3b9-58892ca233f2",
   "metadata": {},
   "outputs": [
    {
     "data": {
      "text/html": [
       "<div>\n",
       "<style scoped>\n",
       "    .dataframe tbody tr th:only-of-type {\n",
       "        vertical-align: middle;\n",
       "    }\n",
       "\n",
       "    .dataframe tbody tr th {\n",
       "        vertical-align: top;\n",
       "    }\n",
       "\n",
       "    .dataframe thead th {\n",
       "        text-align: right;\n",
       "    }\n",
       "</style>\n",
       "<table border=\"1\" class=\"dataframe\">\n",
       "  <thead>\n",
       "    <tr style=\"text-align: right;\">\n",
       "      <th></th>\n",
       "      <th>0</th>\n",
       "      <th>1</th>\n",
       "      <th>2</th>\n",
       "      <th>3</th>\n",
       "      <th>4</th>\n",
       "      <th>5</th>\n",
       "      <th>6</th>\n",
       "      <th>7</th>\n",
       "      <th>8</th>\n",
       "      <th>9</th>\n",
       "      <th>...</th>\n",
       "      <th>90</th>\n",
       "      <th>91</th>\n",
       "      <th>92</th>\n",
       "      <th>93</th>\n",
       "      <th>94</th>\n",
       "      <th>95</th>\n",
       "      <th>96</th>\n",
       "      <th>97</th>\n",
       "      <th>98</th>\n",
       "      <th>99</th>\n",
       "    </tr>\n",
       "  </thead>\n",
       "  <tbody>\n",
       "    <tr>\n",
       "      <th>0</th>\n",
       "      <td>5378</td>\n",
       "      <td>5455</td>\n",
       "      <td>5393</td>\n",
       "      <td>5463</td>\n",
       "      <td>5384</td>\n",
       "      <td>5505</td>\n",
       "      <td>5364</td>\n",
       "      <td>5408</td>\n",
       "      <td>5436</td>\n",
       "      <td>5486</td>\n",
       "      <td>...</td>\n",
       "      <td>5470</td>\n",
       "      <td>5411</td>\n",
       "      <td>5443</td>\n",
       "      <td>5388</td>\n",
       "      <td>5354</td>\n",
       "      <td>5363</td>\n",
       "      <td>5386</td>\n",
       "      <td>5405</td>\n",
       "      <td>5428</td>\n",
       "      <td>5450</td>\n",
       "    </tr>\n",
       "    <tr>\n",
       "      <th>1</th>\n",
       "      <td>4855</td>\n",
       "      <td>5295</td>\n",
       "      <td>5291</td>\n",
       "      <td>5337</td>\n",
       "      <td>5289</td>\n",
       "      <td>5391</td>\n",
       "      <td>4539</td>\n",
       "      <td>5084</td>\n",
       "      <td>5261</td>\n",
       "      <td>5206</td>\n",
       "      <td>...</td>\n",
       "      <td>5288</td>\n",
       "      <td>5299</td>\n",
       "      <td>5319</td>\n",
       "      <td>5228</td>\n",
       "      <td>4654</td>\n",
       "      <td>5004</td>\n",
       "      <td>5224</td>\n",
       "      <td>5286</td>\n",
       "      <td>5198</td>\n",
       "      <td>5333</td>\n",
       "    </tr>\n",
       "    <tr>\n",
       "      <th>2</th>\n",
       "      <td>5281</td>\n",
       "      <td>5374</td>\n",
       "      <td>5333</td>\n",
       "      <td>5340</td>\n",
       "      <td>5323</td>\n",
       "      <td>5450</td>\n",
       "      <td>5301</td>\n",
       "      <td>5278</td>\n",
       "      <td>5380</td>\n",
       "      <td>5406</td>\n",
       "      <td>...</td>\n",
       "      <td>5351</td>\n",
       "      <td>5355</td>\n",
       "      <td>5374</td>\n",
       "      <td>5296</td>\n",
       "      <td>5284</td>\n",
       "      <td>5262</td>\n",
       "      <td>5270</td>\n",
       "      <td>5311</td>\n",
       "      <td>5263</td>\n",
       "      <td>5373</td>\n",
       "    </tr>\n",
       "    <tr>\n",
       "      <th>3</th>\n",
       "      <td>869</td>\n",
       "      <td>532</td>\n",
       "      <td>552</td>\n",
       "      <td>412</td>\n",
       "      <td>302</td>\n",
       "      <td>446</td>\n",
       "      <td>429</td>\n",
       "      <td>346</td>\n",
       "      <td>337</td>\n",
       "      <td>241</td>\n",
       "      <td>...</td>\n",
       "      <td>791</td>\n",
       "      <td>418</td>\n",
       "      <td>709</td>\n",
       "      <td>229</td>\n",
       "      <td>330</td>\n",
       "      <td>240</td>\n",
       "      <td>353</td>\n",
       "      <td>842</td>\n",
       "      <td>559</td>\n",
       "      <td>327</td>\n",
       "    </tr>\n",
       "    <tr>\n",
       "      <th>4</th>\n",
       "      <td>5059</td>\n",
       "      <td>5247</td>\n",
       "      <td>5011</td>\n",
       "      <td>5216</td>\n",
       "      <td>5210</td>\n",
       "      <td>5235</td>\n",
       "      <td>4654</td>\n",
       "      <td>5106</td>\n",
       "      <td>5137</td>\n",
       "      <td>5250</td>\n",
       "      <td>...</td>\n",
       "      <td>5336</td>\n",
       "      <td>5136</td>\n",
       "      <td>5235</td>\n",
       "      <td>5104</td>\n",
       "      <td>5095</td>\n",
       "      <td>4883</td>\n",
       "      <td>5042</td>\n",
       "      <td>5201</td>\n",
       "      <td>5252</td>\n",
       "      <td>5143</td>\n",
       "    </tr>\n",
       "  </tbody>\n",
       "</table>\n",
       "<p>5 rows × 100 columns</p>\n",
       "</div>"
      ],
      "text/plain": [
       "     0     1     2     3     4     5     6     7     8     9   ...    90  \\\n",
       "0  5378  5455  5393  5463  5384  5505  5364  5408  5436  5486  ...  5470   \n",
       "1  4855  5295  5291  5337  5289  5391  4539  5084  5261  5206  ...  5288   \n",
       "2  5281  5374  5333  5340  5323  5450  5301  5278  5380  5406  ...  5351   \n",
       "3   869   532   552   412   302   446   429   346   337   241  ...   791   \n",
       "4  5059  5247  5011  5216  5210  5235  4654  5106  5137  5250  ...  5336   \n",
       "\n",
       "     91    92    93    94    95    96    97    98    99  \n",
       "0  5411  5443  5388  5354  5363  5386  5405  5428  5450  \n",
       "1  5299  5319  5228  4654  5004  5224  5286  5198  5333  \n",
       "2  5355  5374  5296  5284  5262  5270  5311  5263  5373  \n",
       "3   418   709   229   330   240   353   842   559   327  \n",
       "4  5136  5235  5104  5095  4883  5042  5201  5252  5143  \n",
       "\n",
       "[5 rows x 100 columns]"
      ]
     },
     "execution_count": 33,
     "metadata": {},
     "output_type": "execute_result"
    }
   ],
   "source": [
    "df_tree.head()"
   ]
  },
  {
   "cell_type": "markdown",
   "id": "fc585a1b-eb4e-41e9-bf8e-ea08c974bf70",
   "metadata": {},
   "source": [
    "## 5.4. Algoritmos de clusterização"
   ]
  },
  {
   "cell_type": "code",
   "execution_count": 34,
   "id": "1087d609-e357-43c3-b7a3-3893ea26ce0f",
   "metadata": {},
   "outputs": [],
   "source": [
    "def train_kmeans(dataframe: pd.DataFrame, k_clusters: list, **kwargs) -> list:\n",
    "    \"\"\"\n",
    "    Treina o modelo KMenas para diferentes valores de k_clusters e calcula a pontuação de silhueta para cada um.\n",
    "\n",
    "    Args:\n",
    "        dataframe: um dataframe com as features de treinamento\n",
    "        k_clusters: uma lista de inteiros que representa o número de clusters a serem testados\n",
    "        **kwargs: argumentos adicionais para a inicialização do modelo de mistura gaussiana\n",
    "\n",
    "    Returns:\n",
    "        Uma lista de pontuações de silhueta correspondentes a cada valor de k_clusters.\n",
    "    \"\"\"\n",
    "\n",
    "    silhouette_scores = []\n",
    "\n",
    "    for k in k_clusters:\n",
    "        # Model training\n",
    "        kmeans_model = KMeans(n_clusters=k, random_state=42, **kwargs).fit(dataframe)\n",
    "\n",
    "        # Model predict\n",
    "        labels = kmeans_model.predict(dataframe)\n",
    "\n",
    "        # Model performance\n",
    "        silhouette = silhouette_score(dataframe, labels, metric=\"euclidean\")\n",
    "        silhouette_scores.append(silhouette)\n",
    "\n",
    "    return silhouette_scores\n",
    "\n",
    "def train_gmm(dataframe: pd.DataFrame, k_clusters: list, **kwargs) -> list:\n",
    "    \n",
    "    silhouette_scores = []\n",
    "\n",
    "    for k in k_clusters:\n",
    "        # Model training\n",
    "        gmm_model = GaussianMixture(n_components=k, random_state=42, **kwargs).fit(dataframe)\n",
    "\n",
    "        # Model predict\n",
    "        labels = gmm_model.predict(dataframe)\n",
    "\n",
    "        # Model performance\n",
    "        silhouette = silhouette_score(dataframe, labels, metric=\"euclidean\")\n",
    "        silhouette_scores.append(silhouette)\n",
    "\n",
    "    return silhouette_scores\n"
   ]
  },
  {
   "cell_type": "code",
   "execution_count": 35,
   "id": "fb2a3c80-8f10-475d-9628-ab523ad3a336",
   "metadata": {},
   "outputs": [],
   "source": [
    "kmeans_list = train_kmeans(df_pca, k_clusters, n_init=10)"
   ]
  },
  {
   "cell_type": "code",
   "execution_count": 36,
   "id": "a7cdf885-62af-4d94-a99c-9dcc6276179c",
   "metadata": {},
   "outputs": [],
   "source": [
    "gmm_list = train_gmm(df_pca, k_clusters, n_init=100)"
   ]
  },
  {
   "cell_type": "code",
   "execution_count": 37,
   "id": "91da26c3-ebfe-46e9-be5b-c161e2d72563",
   "metadata": {},
   "outputs": [
    {
     "data": {
      "text/plain": [
       "array([2, 3, 4])"
      ]
     },
     "execution_count": 37,
     "metadata": {},
     "output_type": "execute_result"
    }
   ],
   "source": [
    "k_clusters"
   ]
  },
  {
   "cell_type": "code",
   "execution_count": 40,
   "id": "3dbf314a-a2fb-406a-ab3b-88694dd64a74",
   "metadata": {},
   "outputs": [
    {
     "data": {
      "text/html": [
       "<div>\n",
       "<style scoped>\n",
       "    .dataframe tbody tr th:only-of-type {\n",
       "        vertical-align: middle;\n",
       "    }\n",
       "\n",
       "    .dataframe tbody tr th {\n",
       "        vertical-align: top;\n",
       "    }\n",
       "\n",
       "    .dataframe thead th {\n",
       "        text-align: right;\n",
       "    }\n",
       "</style>\n",
       "<table border=\"1\" class=\"dataframe\">\n",
       "  <thead>\n",
       "    <tr style=\"text-align: right;\">\n",
       "      <th></th>\n",
       "      <th>scaler</th>\n",
       "      <th>Reducer</th>\n",
       "      <th>Clusters</th>\n",
       "      <th>KMeans</th>\n",
       "      <th>GMM</th>\n",
       "    </tr>\n",
       "  </thead>\n",
       "  <tbody>\n",
       "    <tr>\n",
       "      <th>0</th>\n",
       "      <td>MinMaxScaler()</td>\n",
       "      <td>PCA</td>\n",
       "      <td>2</td>\n",
       "      <td>0.728801</td>\n",
       "      <td>-0.116557</td>\n",
       "    </tr>\n",
       "    <tr>\n",
       "      <th>1</th>\n",
       "      <td>MinMaxScaler()</td>\n",
       "      <td>PCA</td>\n",
       "      <td>3</td>\n",
       "      <td>0.655208</td>\n",
       "      <td>0.486107</td>\n",
       "    </tr>\n",
       "    <tr>\n",
       "      <th>2</th>\n",
       "      <td>MinMaxScaler()</td>\n",
       "      <td>PCA</td>\n",
       "      <td>4</td>\n",
       "      <td>0.579670</td>\n",
       "      <td>0.352277</td>\n",
       "    </tr>\n",
       "  </tbody>\n",
       "</table>\n",
       "</div>"
      ],
      "text/plain": [
       "           scaler Reducer  Clusters    KMeans       GMM\n",
       "0  MinMaxScaler()     PCA         2  0.728801 -0.116557\n",
       "1  MinMaxScaler()     PCA         3  0.655208  0.486107\n",
       "2  MinMaxScaler()     PCA         4  0.579670  0.352277"
      ]
     },
     "execution_count": 40,
     "metadata": {},
     "output_type": "execute_result"
    }
   ],
   "source": [
    "df_results_pca = pd.DataFrame({\n",
    "                                'scaler': str(scaler),\n",
    "                                'Reducer': 'PCA',\n",
    "                                'Clusters': k_clusters,\n",
    "                                'KMeans': kmeans_list,\n",
    "                                'GMM': gmm_list,\n",
    "                                })\n",
    "df_results_pca"
   ]
  },
  {
   "cell_type": "code",
   "execution_count": 41,
   "id": "1471ed2d-45b4-4cdc-ba71-1aa1c5ce39f1",
   "metadata": {},
   "outputs": [
    {
     "data": {
      "text/html": [
       "<div>\n",
       "<style scoped>\n",
       "    .dataframe tbody tr th:only-of-type {\n",
       "        vertical-align: middle;\n",
       "    }\n",
       "\n",
       "    .dataframe tbody tr th {\n",
       "        vertical-align: top;\n",
       "    }\n",
       "\n",
       "    .dataframe thead th {\n",
       "        text-align: right;\n",
       "    }\n",
       "</style>\n",
       "<table border=\"1\" class=\"dataframe\">\n",
       "  <thead>\n",
       "    <tr style=\"text-align: right;\">\n",
       "      <th></th>\n",
       "      <th>scaler</th>\n",
       "      <th>Reducer</th>\n",
       "      <th>Clusters</th>\n",
       "      <th>GMM</th>\n",
       "      <th>KMeans</th>\n",
       "    </tr>\n",
       "  </thead>\n",
       "  <tbody>\n",
       "    <tr>\n",
       "      <th>0</th>\n",
       "      <td>MinMaxScaler()</td>\n",
       "      <td>UMAP</td>\n",
       "      <td>2</td>\n",
       "      <td>0.402053</td>\n",
       "      <td>0.424381</td>\n",
       "    </tr>\n",
       "    <tr>\n",
       "      <th>1</th>\n",
       "      <td>MinMaxScaler()</td>\n",
       "      <td>UMAP</td>\n",
       "      <td>3</td>\n",
       "      <td>0.470223</td>\n",
       "      <td>0.484956</td>\n",
       "    </tr>\n",
       "    <tr>\n",
       "      <th>2</th>\n",
       "      <td>MinMaxScaler()</td>\n",
       "      <td>UMAP</td>\n",
       "      <td>4</td>\n",
       "      <td>0.417490</td>\n",
       "      <td>0.452469</td>\n",
       "    </tr>\n",
       "  </tbody>\n",
       "</table>\n",
       "</div>"
      ],
      "text/plain": [
       "           scaler Reducer  Clusters       GMM    KMeans\n",
       "0  MinMaxScaler()    UMAP         2  0.402053  0.424381\n",
       "1  MinMaxScaler()    UMAP         3  0.470223  0.484956\n",
       "2  MinMaxScaler()    UMAP         4  0.417490  0.452469"
      ]
     },
     "execution_count": 41,
     "metadata": {},
     "output_type": "execute_result"
    }
   ],
   "source": [
    "gmm_list = train_gmm(df_umap, k_clusters, n_init=10)\n",
    "kmeans_list = train_kmeans(df_umap, k_clusters, n_init=100)\n",
    "\n",
    "results_umap = pd.DataFrame({    'scaler': str(scaler),\n",
    "                  'Reducer': 'UMAP',\n",
    "                  'Clusters': k_clusters,\n",
    "                  'GMM': gmm_list,\n",
    "                  'KMeans': kmeans_list})\n",
    "results_umap"
   ]
  },
  {
   "cell_type": "code",
   "execution_count": 42,
   "id": "bc3a5470-14fa-42ba-95d3-f832d202b7b9",
   "metadata": {},
   "outputs": [
    {
     "name": "stderr",
     "output_type": "stream",
     "text": [
      "/opt/conda/lib/python3.7/site-packages/sklearn/manifold/_t_sne.py:783: FutureWarning: The default initialization in TSNE will change from 'random' to 'pca' in 1.2.\n",
      "  FutureWarning,\n",
      "/opt/conda/lib/python3.7/site-packages/sklearn/manifold/_t_sne.py:793: FutureWarning: The default learning rate in TSNE will change from 200.0 to 'auto' in 1.2.\n",
      "  FutureWarning,\n"
     ]
    }
   ],
   "source": [
    "df_leaf = train_tree_embedding(scaler, df_eda, n_jobs=-1, n_estimators=100)\n",
    "\n",
    "df_tree_tsne = train_tsne(scaler, df_leaf, to_scaling=False)\n",
    "gmm_list_tree_tsne = train_gmm(df_tree_tsne, k_clusters, n_init=100)\n",
    "kmeans_list_tree_tsne = train_kmeans(df_tree_tsne, k_clusters, n_init=100)\n",
    "df_results_tree_tsne = pd.DataFrame( {\n",
    "                  'scaler': str(scaler),\n",
    "                  'Reducer': 'Tree Embedding + t-SNE',\n",
    "                  'Clusters': k_clusters,\n",
    "                  'GMM': gmm_list_tree_tsne,\n",
    "                  'KMeans': kmeans_list_tree_tsne})"
   ]
  },
  {
   "cell_type": "code",
   "execution_count": 43,
   "id": "0ec8eccf-8fcb-43d8-a848-584c27e3b23e",
   "metadata": {},
   "outputs": [
    {
     "data": {
      "text/html": [
       "<div>\n",
       "<style scoped>\n",
       "    .dataframe tbody tr th:only-of-type {\n",
       "        vertical-align: middle;\n",
       "    }\n",
       "\n",
       "    .dataframe tbody tr th {\n",
       "        vertical-align: top;\n",
       "    }\n",
       "\n",
       "    .dataframe thead th {\n",
       "        text-align: right;\n",
       "    }\n",
       "</style>\n",
       "<table border=\"1\" class=\"dataframe\">\n",
       "  <thead>\n",
       "    <tr style=\"text-align: right;\">\n",
       "      <th></th>\n",
       "      <th>scaler</th>\n",
       "      <th>Reducer</th>\n",
       "      <th>Clusters</th>\n",
       "      <th>GMM</th>\n",
       "      <th>KMeans</th>\n",
       "    </tr>\n",
       "  </thead>\n",
       "  <tbody>\n",
       "    <tr>\n",
       "      <th>0</th>\n",
       "      <td>MinMaxScaler()</td>\n",
       "      <td>Tree Embedding + t-SNE</td>\n",
       "      <td>2</td>\n",
       "      <td>0.344678</td>\n",
       "      <td>0.356802</td>\n",
       "    </tr>\n",
       "    <tr>\n",
       "      <th>1</th>\n",
       "      <td>MinMaxScaler()</td>\n",
       "      <td>Tree Embedding + t-SNE</td>\n",
       "      <td>3</td>\n",
       "      <td>0.382364</td>\n",
       "      <td>0.386377</td>\n",
       "    </tr>\n",
       "    <tr>\n",
       "      <th>2</th>\n",
       "      <td>MinMaxScaler()</td>\n",
       "      <td>Tree Embedding + t-SNE</td>\n",
       "      <td>4</td>\n",
       "      <td>0.340757</td>\n",
       "      <td>0.407487</td>\n",
       "    </tr>\n",
       "  </tbody>\n",
       "</table>\n",
       "</div>"
      ],
      "text/plain": [
       "           scaler                 Reducer  Clusters       GMM    KMeans\n",
       "0  MinMaxScaler()  Tree Embedding + t-SNE         2  0.344678  0.356802\n",
       "1  MinMaxScaler()  Tree Embedding + t-SNE         3  0.382364  0.386377\n",
       "2  MinMaxScaler()  Tree Embedding + t-SNE         4  0.340757  0.407487"
      ]
     },
     "execution_count": 43,
     "metadata": {},
     "output_type": "execute_result"
    }
   ],
   "source": [
    "df_results_tree_tsne"
   ]
  },
  {
   "cell_type": "code",
   "execution_count": 44,
   "id": "e2212f82-485e-494a-a32f-1bc7660aa229",
   "metadata": {},
   "outputs": [
    {
     "data": {
      "text/html": [
       "<div>\n",
       "<style scoped>\n",
       "    .dataframe tbody tr th:only-of-type {\n",
       "        vertical-align: middle;\n",
       "    }\n",
       "\n",
       "    .dataframe tbody tr th {\n",
       "        vertical-align: top;\n",
       "    }\n",
       "\n",
       "    .dataframe thead th {\n",
       "        text-align: right;\n",
       "    }\n",
       "</style>\n",
       "<table border=\"1\" class=\"dataframe\">\n",
       "  <thead>\n",
       "    <tr style=\"text-align: right;\">\n",
       "      <th></th>\n",
       "      <th>scaler</th>\n",
       "      <th>Reducer</th>\n",
       "      <th>Clusters</th>\n",
       "      <th>GMM</th>\n",
       "      <th>KMeans</th>\n",
       "    </tr>\n",
       "  </thead>\n",
       "  <tbody>\n",
       "    <tr>\n",
       "      <th>0</th>\n",
       "      <td>MinMaxScaler()</td>\n",
       "      <td>Tree Embedding + PCA</td>\n",
       "      <td>2</td>\n",
       "      <td>0.464320</td>\n",
       "      <td>0.489975</td>\n",
       "    </tr>\n",
       "    <tr>\n",
       "      <th>1</th>\n",
       "      <td>MinMaxScaler()</td>\n",
       "      <td>Tree Embedding + PCA</td>\n",
       "      <td>3</td>\n",
       "      <td>0.445354</td>\n",
       "      <td>0.463970</td>\n",
       "    </tr>\n",
       "    <tr>\n",
       "      <th>2</th>\n",
       "      <td>MinMaxScaler()</td>\n",
       "      <td>Tree Embedding + PCA</td>\n",
       "      <td>4</td>\n",
       "      <td>0.480612</td>\n",
       "      <td>0.435689</td>\n",
       "    </tr>\n",
       "  </tbody>\n",
       "</table>\n",
       "</div>"
      ],
      "text/plain": [
       "           scaler               Reducer  Clusters       GMM    KMeans\n",
       "0  MinMaxScaler()  Tree Embedding + PCA         2  0.464320  0.489975\n",
       "1  MinMaxScaler()  Tree Embedding + PCA         3  0.445354  0.463970\n",
       "2  MinMaxScaler()  Tree Embedding + PCA         4  0.480612  0.435689"
      ]
     },
     "execution_count": 44,
     "metadata": {},
     "output_type": "execute_result"
    }
   ],
   "source": [
    "df_tree_pca = train_pca(scaler, df_leaf, to_scaling=False)\n",
    "gmm_list_tree_pca = train_gmm(df_tree_pca, k_clusters, n_init=100)\n",
    "kmeans_list_tree_pca = train_kmeans(df_tree_pca, k_clusters, n_init=100)\n",
    "df_results_tree_pca = pd.DataFrame( {\n",
    "                  'scaler': str(scaler),\n",
    "                  'Reducer': 'Tree Embedding + PCA',\n",
    "                  'Clusters': k_clusters,\n",
    "                  'GMM': gmm_list_tree_pca,\n",
    "                  'KMeans': kmeans_list_tree_pca})\n",
    "df_results_tree_pca"
   ]
  },
  {
   "cell_type": "code",
   "execution_count": 45,
   "id": "fcca368f-14c4-4adb-bdda-1fc835c1c5ba",
   "metadata": {},
   "outputs": [
    {
     "data": {
      "text/html": [
       "<div>\n",
       "<style scoped>\n",
       "    .dataframe tbody tr th:only-of-type {\n",
       "        vertical-align: middle;\n",
       "    }\n",
       "\n",
       "    .dataframe tbody tr th {\n",
       "        vertical-align: top;\n",
       "    }\n",
       "\n",
       "    .dataframe thead th {\n",
       "        text-align: right;\n",
       "    }\n",
       "</style>\n",
       "<table border=\"1\" class=\"dataframe\">\n",
       "  <thead>\n",
       "    <tr style=\"text-align: right;\">\n",
       "      <th></th>\n",
       "      <th>scaler</th>\n",
       "      <th>Reducer</th>\n",
       "      <th>Clusters</th>\n",
       "      <th>KMeans</th>\n",
       "      <th>GMM</th>\n",
       "    </tr>\n",
       "  </thead>\n",
       "  <tbody>\n",
       "    <tr>\n",
       "      <th>0</th>\n",
       "      <td>MinMaxScaler()</td>\n",
       "      <td>PCA</td>\n",
       "      <td>2</td>\n",
       "      <td>0.728801</td>\n",
       "      <td>-0.116557</td>\n",
       "    </tr>\n",
       "    <tr>\n",
       "      <th>1</th>\n",
       "      <td>MinMaxScaler()</td>\n",
       "      <td>PCA</td>\n",
       "      <td>3</td>\n",
       "      <td>0.655208</td>\n",
       "      <td>0.486107</td>\n",
       "    </tr>\n",
       "    <tr>\n",
       "      <th>2</th>\n",
       "      <td>MinMaxScaler()</td>\n",
       "      <td>PCA</td>\n",
       "      <td>4</td>\n",
       "      <td>0.579670</td>\n",
       "      <td>0.352277</td>\n",
       "    </tr>\n",
       "    <tr>\n",
       "      <th>0</th>\n",
       "      <td>MinMaxScaler()</td>\n",
       "      <td>UMAP</td>\n",
       "      <td>2</td>\n",
       "      <td>0.424381</td>\n",
       "      <td>0.402053</td>\n",
       "    </tr>\n",
       "    <tr>\n",
       "      <th>1</th>\n",
       "      <td>MinMaxScaler()</td>\n",
       "      <td>UMAP</td>\n",
       "      <td>3</td>\n",
       "      <td>0.484956</td>\n",
       "      <td>0.470223</td>\n",
       "    </tr>\n",
       "    <tr>\n",
       "      <th>2</th>\n",
       "      <td>MinMaxScaler()</td>\n",
       "      <td>UMAP</td>\n",
       "      <td>4</td>\n",
       "      <td>0.452469</td>\n",
       "      <td>0.417490</td>\n",
       "    </tr>\n",
       "    <tr>\n",
       "      <th>0</th>\n",
       "      <td>MinMaxScaler()</td>\n",
       "      <td>Tree Embedding + t-SNE</td>\n",
       "      <td>2</td>\n",
       "      <td>0.356802</td>\n",
       "      <td>0.344678</td>\n",
       "    </tr>\n",
       "    <tr>\n",
       "      <th>1</th>\n",
       "      <td>MinMaxScaler()</td>\n",
       "      <td>Tree Embedding + t-SNE</td>\n",
       "      <td>3</td>\n",
       "      <td>0.386377</td>\n",
       "      <td>0.382364</td>\n",
       "    </tr>\n",
       "    <tr>\n",
       "      <th>2</th>\n",
       "      <td>MinMaxScaler()</td>\n",
       "      <td>Tree Embedding + t-SNE</td>\n",
       "      <td>4</td>\n",
       "      <td>0.407487</td>\n",
       "      <td>0.340757</td>\n",
       "    </tr>\n",
       "    <tr>\n",
       "      <th>0</th>\n",
       "      <td>MinMaxScaler()</td>\n",
       "      <td>Tree Embedding + PCA</td>\n",
       "      <td>2</td>\n",
       "      <td>0.489975</td>\n",
       "      <td>0.464320</td>\n",
       "    </tr>\n",
       "    <tr>\n",
       "      <th>1</th>\n",
       "      <td>MinMaxScaler()</td>\n",
       "      <td>Tree Embedding + PCA</td>\n",
       "      <td>3</td>\n",
       "      <td>0.463970</td>\n",
       "      <td>0.445354</td>\n",
       "    </tr>\n",
       "    <tr>\n",
       "      <th>2</th>\n",
       "      <td>MinMaxScaler()</td>\n",
       "      <td>Tree Embedding + PCA</td>\n",
       "      <td>4</td>\n",
       "      <td>0.435689</td>\n",
       "      <td>0.480612</td>\n",
       "    </tr>\n",
       "  </tbody>\n",
       "</table>\n",
       "</div>"
      ],
      "text/plain": [
       "           scaler                 Reducer  Clusters    KMeans       GMM\n",
       "0  MinMaxScaler()                     PCA         2  0.728801 -0.116557\n",
       "1  MinMaxScaler()                     PCA         3  0.655208  0.486107\n",
       "2  MinMaxScaler()                     PCA         4  0.579670  0.352277\n",
       "0  MinMaxScaler()                    UMAP         2  0.424381  0.402053\n",
       "1  MinMaxScaler()                    UMAP         3  0.484956  0.470223\n",
       "2  MinMaxScaler()                    UMAP         4  0.452469  0.417490\n",
       "0  MinMaxScaler()  Tree Embedding + t-SNE         2  0.356802  0.344678\n",
       "1  MinMaxScaler()  Tree Embedding + t-SNE         3  0.386377  0.382364\n",
       "2  MinMaxScaler()  Tree Embedding + t-SNE         4  0.407487  0.340757\n",
       "0  MinMaxScaler()    Tree Embedding + PCA         2  0.489975  0.464320\n",
       "1  MinMaxScaler()    Tree Embedding + PCA         3  0.463970  0.445354\n",
       "2  MinMaxScaler()    Tree Embedding + PCA         4  0.435689  0.480612"
      ]
     },
     "execution_count": 45,
     "metadata": {},
     "output_type": "execute_result"
    }
   ],
   "source": [
    "df_final_results = pd.concat([df_results_pca, results_umap, df_results_tree_tsne, df_results_tree_pca], axis=0)\n",
    "df_final_results"
   ]
  },
  {
   "cell_type": "code",
   "execution_count": 50,
   "id": "cfc25cc1-cffa-4947-b38a-ae7142d77937",
   "metadata": {},
   "outputs": [],
   "source": [
    "def salvar_no_bigquery(dataframe: pd.DataFrame,\n",
    "                      project_name: str,\n",
    "                      dataset_table_name: str):\n",
    "    client = bigquery.Client(project=project_name)\n",
    "    \n",
    "    job = client.load_table_from_dataframe(dataframe, dataset_table_name)\n",
    "    job.result()\n"
   ]
  },
  {
   "cell_type": "code",
   "execution_count": 52,
   "id": "672d7764-01e7-48e1-a281-3fec51ce04ca",
   "metadata": {},
   "outputs": [],
   "source": [
    "salvar_no_bigquery(df_final_results,\n",
    "                  project_name='gcpproject-394221',\n",
    "                  dataset_table_name='ecommerce_database.experimentation_results')"
   ]
  }
 ],
 "metadata": {
  "kernelspec": {
   "display_name": "Python (Local)",
   "language": "python",
   "name": "local-base"
  },
  "language_info": {
   "codemirror_mode": {
    "name": "ipython",
    "version": 3
   },
   "file_extension": ".py",
   "mimetype": "text/x-python",
   "name": "python",
   "nbconvert_exporter": "python",
   "pygments_lexer": "ipython3",
   "version": "3.7.12"
  }
 },
 "nbformat": 4,
 "nbformat_minor": 5
}
