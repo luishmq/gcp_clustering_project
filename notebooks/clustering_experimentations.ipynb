{
 "cells": [
  {
   "cell_type": "markdown",
   "id": "fe5012bf-54a4-421c-b680-ecb4afbf8723",
   "metadata": {},
   "source": [
    "# 0.0 Imports"
   ]
  },
  {
   "cell_type": "code",
   "execution_count": 4,
   "id": "207a82f8-16de-4b40-af32-c164528789a7",
   "metadata": {},
   "outputs": [],
   "source": [
    "import pandas as pd\n",
    "import numpy  as np\n",
    "import inflection\n",
    "from typing import Tuple\n",
    "from functools import reduce "
   ]
  },
  {
   "cell_type": "markdown",
   "id": "62f03f70-3b72-406d-a796-d62c3037a269",
   "metadata": {},
   "source": [
    "# 1.0 Loading Data"
   ]
  },
  {
   "cell_type": "code",
   "execution_count": 5,
   "id": "6b58e5be-df5e-486f-8dde-4196a1456378",
   "metadata": {},
   "outputs": [
    {
     "data": {
      "application/vnd.jupyter.widget-view+json": {
       "model_id": "f7cd8905571549299a9579023ca5d0e6",
       "version_major": 2,
       "version_minor": 0
      },
      "text/plain": [
       "Query is running:   0%|          |"
      ]
     },
     "metadata": {},
     "output_type": "display_data"
    },
    {
     "data": {
      "application/vnd.jupyter.widget-view+json": {
       "model_id": "8cd854c772be4a7db13ea26a46b49f3a",
       "version_major": 2,
       "version_minor": 0
      },
      "text/plain": [
       "Downloading:   0%|          |"
      ]
     },
     "metadata": {},
     "output_type": "display_data"
    }
   ],
   "source": [
    "%%bigquery df_raw\n",
    "\n",
    "SELECT * FROM gcpproject-394221.ecommerce_database.ecommerce_table2 WHERE InvoiceDate <= \"2023-05-15\""
   ]
  },
  {
   "cell_type": "code",
   "execution_count": 6,
   "id": "36f5782d-8dbe-4e32-aa65-b2ff1f8e1663",
   "metadata": {},
   "outputs": [
    {
     "data": {
      "text/html": [
       "<div>\n",
       "<style scoped>\n",
       "    .dataframe tbody tr th:only-of-type {\n",
       "        vertical-align: middle;\n",
       "    }\n",
       "\n",
       "    .dataframe tbody tr th {\n",
       "        vertical-align: top;\n",
       "    }\n",
       "\n",
       "    .dataframe thead th {\n",
       "        text-align: right;\n",
       "    }\n",
       "</style>\n",
       "<table border=\"1\" class=\"dataframe\">\n",
       "  <thead>\n",
       "    <tr style=\"text-align: right;\">\n",
       "      <th></th>\n",
       "      <th>InvoiceNo</th>\n",
       "      <th>StockCode</th>\n",
       "      <th>Description</th>\n",
       "      <th>Quantity</th>\n",
       "      <th>InvoiceDate</th>\n",
       "      <th>UnitPrice</th>\n",
       "      <th>CustomerID</th>\n",
       "      <th>Country</th>\n",
       "    </tr>\n",
       "  </thead>\n",
       "  <tbody>\n",
       "    <tr>\n",
       "      <th>0</th>\n",
       "      <td>576899</td>\n",
       "      <td>22698</td>\n",
       "      <td>PINK REGENCY TEACUP AND SAUCER</td>\n",
       "      <td>18</td>\n",
       "      <td>2017-11-15</td>\n",
       "      <td>2.95</td>\n",
       "      <td>14911.0</td>\n",
       "      <td>EIRE</td>\n",
       "    </tr>\n",
       "    <tr>\n",
       "      <th>1</th>\n",
       "      <td>576899</td>\n",
       "      <td>22699</td>\n",
       "      <td>ROSES REGENCY TEACUP AND SAUCER</td>\n",
       "      <td>18</td>\n",
       "      <td>2017-11-15</td>\n",
       "      <td>2.95</td>\n",
       "      <td>14911.0</td>\n",
       "      <td>EIRE</td>\n",
       "    </tr>\n",
       "    <tr>\n",
       "      <th>2</th>\n",
       "      <td>576899</td>\n",
       "      <td>22697</td>\n",
       "      <td>GREEN REGENCY TEACUP AND SAUCER</td>\n",
       "      <td>18</td>\n",
       "      <td>2017-11-15</td>\n",
       "      <td>2.95</td>\n",
       "      <td>14911.0</td>\n",
       "      <td>EIRE</td>\n",
       "    </tr>\n",
       "    <tr>\n",
       "      <th>3</th>\n",
       "      <td>576899</td>\n",
       "      <td>22843</td>\n",
       "      <td>BISCUIT TIN VINTAGE GREEN</td>\n",
       "      <td>2</td>\n",
       "      <td>2017-11-15</td>\n",
       "      <td>6.75</td>\n",
       "      <td>14911.0</td>\n",
       "      <td>EIRE</td>\n",
       "    </tr>\n",
       "    <tr>\n",
       "      <th>4</th>\n",
       "      <td>576899</td>\n",
       "      <td>22842</td>\n",
       "      <td>BISCUIT TIN VINTAGE RED</td>\n",
       "      <td>2</td>\n",
       "      <td>2017-11-15</td>\n",
       "      <td>6.75</td>\n",
       "      <td>14911.0</td>\n",
       "      <td>EIRE</td>\n",
       "    </tr>\n",
       "  </tbody>\n",
       "</table>\n",
       "</div>"
      ],
      "text/plain": [
       "  InvoiceNo StockCode                       Description  Quantity InvoiceDate  \\\n",
       "0    576899     22698    PINK REGENCY TEACUP AND SAUCER        18  2017-11-15   \n",
       "1    576899     22699  ROSES REGENCY TEACUP AND SAUCER         18  2017-11-15   \n",
       "2    576899     22697   GREEN REGENCY TEACUP AND SAUCER        18  2017-11-15   \n",
       "3    576899     22843         BISCUIT TIN VINTAGE GREEN         2  2017-11-15   \n",
       "4    576899     22842           BISCUIT TIN VINTAGE RED         2  2017-11-15   \n",
       "\n",
       "   UnitPrice  CustomerID Country  \n",
       "0       2.95     14911.0    EIRE  \n",
       "1       2.95     14911.0    EIRE  \n",
       "2       2.95     14911.0    EIRE  \n",
       "3       6.75     14911.0    EIRE  \n",
       "4       6.75     14911.0    EIRE  "
      ]
     },
     "execution_count": 6,
     "metadata": {},
     "output_type": "execute_result"
    }
   ],
   "source": [
    "df_raw.head()"
   ]
  },
  {
   "cell_type": "markdown",
   "id": "27ef7840-a1c5-4d4a-ace5-7de4cbbdac79",
   "metadata": {},
   "source": [
    "## 1.1 Rename Columns"
   ]
  },
  {
   "cell_type": "code",
   "execution_count": 7,
   "id": "23bfc60c-81b7-43b9-89aa-d20dba50b489",
   "metadata": {},
   "outputs": [],
   "source": [
    "# Mudar para snake case\n",
    "old_cols = ['InvoiceNo', 'StockCode', 'Description', 'Quantity', 'InvoiceDate',\n",
    "       'UnitPrice', 'CustomerID', 'Country']\n",
    "\n",
    "snake_case = lambda x: inflection.underscore(x)\n",
    "\n",
    "new_cols = list( map(snake_case, old_cols))\n",
    "df_raw.columns = new_cols"
   ]
  },
  {
   "cell_type": "markdown",
   "id": "e26e182f-817a-4ff8-a98d-21b9debde0b7",
   "metadata": {},
   "source": [
    "## 1.2 Data Dimensions"
   ]
  },
  {
   "cell_type": "code",
   "execution_count": 8,
   "id": "abd0623c-4814-496c-8c7b-0f588699d164",
   "metadata": {},
   "outputs": [
    {
     "name": "stdout",
     "output_type": "stream",
     "text": [
      "Número de linhas do conjunto de dados: 404772\n",
      "Número de colunas do conjunto de dados: 8\n"
     ]
    }
   ],
   "source": [
    "print(\"Número de linhas do conjunto de dados: {}\".format(df_raw.shape[0]))\n",
    "print(\"Número de colunas do conjunto de dados: {}\".format(df_raw.shape[1]))"
   ]
  },
  {
   "cell_type": "markdown",
   "id": "6e3dcce6-81cf-4239-8405-1248e930f3ee",
   "metadata": {},
   "source": [
    "## 1.3 Data Types"
   ]
  },
  {
   "cell_type": "code",
   "execution_count": 9,
   "id": "271824d1-b417-44f6-98e8-9fbac56a8356",
   "metadata": {},
   "outputs": [
    {
     "data": {
      "text/plain": [
       "invoice_no       object\n",
       "stock_code       object\n",
       "description      object\n",
       "quantity          Int64\n",
       "invoice_date     dbdate\n",
       "unit_price      float64\n",
       "customer_id     float64\n",
       "country          object\n",
       "dtype: object"
      ]
     },
     "execution_count": 9,
     "metadata": {},
     "output_type": "execute_result"
    }
   ],
   "source": [
    "df_raw.dtypes"
   ]
  },
  {
   "cell_type": "markdown",
   "id": "cde2fd25-0534-4e08-80a8-390893ac0830",
   "metadata": {},
   "source": [
    "## 1.4 Change Types"
   ]
  },
  {
   "cell_type": "code",
   "execution_count": 10,
   "id": "b5575ba2-de63-44f0-bfce-98b5defba222",
   "metadata": {},
   "outputs": [],
   "source": [
    "df_raw['invoice_date'] = pd.to_datetime(df_raw['invoice_date'])\n",
    "df_raw['customer_id'] = df_raw['customer_id'].astype(int)"
   ]
  },
  {
   "cell_type": "markdown",
   "id": "00a6f8ec-4124-4765-a89e-b8c9a3558151",
   "metadata": {},
   "source": [
    "# 2.0 Data Preparation"
   ]
  },
  {
   "cell_type": "code",
   "execution_count": 13,
   "id": "086277ca-3e0c-44bc-b6e6-9c097e3ec796",
   "metadata": {},
   "outputs": [],
   "source": [
    "def coluna_para_int(dataframe: pd.DataFrame, nome_coluna: str) -> bool:\n",
    "    \"\"\"\n",
    "    Converte a coluna especificada em um dataframe para o tipo inteiro.\n",
    "\n",
    "    Args:\n",
    "        dataframe (pd.DataFrame): O dataframe a ser processado.\n",
    "        nome_coluna (str): O nome da coluna a ser convertida.\n",
    "\n",
    "    Returns:\n",
    "        bool: True se a conversão foi bem sucedida, False caso contrário.\n",
    "    \"\"\"\n",
    "    \n",
    "    if nome_coluna not in dataframe.columns:\n",
    "        raise ValueError(f'Coluna {nome_coluna} nao encontrada')\n",
    "        \n",
    "    try:\n",
    "        dataframe[nome_coluna] = dataframe[nome_coluna].astype(int)\n",
    "    except:\n",
    "        raise ValueError(f'Nao foi possivel converter a coluna {nome_coluna} para inteiro.')\n",
    "    return True"
   ]
  },
  {
   "cell_type": "code",
   "execution_count": 16,
   "id": "a778385e-3054-49c0-9e86-1b973373da3f",
   "metadata": {},
   "outputs": [
    {
     "data": {
      "text/plain": [
       "True"
      ]
     },
     "execution_count": 16,
     "metadata": {},
     "output_type": "execute_result"
    }
   ],
   "source": [
    "coluna_para_int(df_raw, 'customer_id')"
   ]
  },
  {
   "cell_type": "code",
   "execution_count": 17,
   "id": "38c61959-ba0a-427e-b209-05d50e7507d6",
   "metadata": {},
   "outputs": [],
   "source": [
    "def coluna_para_date(dataframe: pd.DataFrame, nome_coluna: str, formato_data: str = None) -> bool: \n",
    "    \"\"\"\n",
    "    Descricao\n",
    "    \n",
    "    Args:\n",
    "    \n",
    "    Retornos:\n",
    "    \"\"\"\n",
    "    \n",
    "    if nome_coluna not in dataframe.columns:\n",
    "        raise ValueError(f'Coluna {nome_coluna} nao foi encontrada no dataframe de entrada')\n",
    "\n",
    "    try:\n",
    "        if formato_data:\n",
    "            dataframe[nome_coluna] = pd.to_datetime(dataframe[nome_coluna], format=formato_data)\n",
    "        else:\n",
    "            dataframe[nome_coluna] = pd.to_datetime(dataframe[nome_coluna])\n",
    "    except (ValueError, TypeError):\n",
    "        raise ValueError(f\"Could not convert column '{nome_coluna}'\")\n",
    "\n",
    "    # Retorna True se a conversão foi bem sucedida\n",
    "    return True"
   ]
  },
  {
   "cell_type": "code",
   "execution_count": 27,
   "id": "101a9717-aa92-49d1-a937-c7208e2d8809",
   "metadata": {},
   "outputs": [],
   "source": [
    "def keep_features(dataframe: pd.DataFrame, keep_columns: list) -> pd.DataFrame:\n",
    "    \"\"\"\n",
    "    Retorna um DataFrame com as colunas especificadas em keep_columns.\n",
    "    \n",
    "    Args:\n",
    "        dataframe (pd.DataFrame): O DataFrame a ser processado.\n",
    "        keep_columns (list): A lista de nomes de colunas a serem mantidas no DataFrame resultante.\n",
    "\n",
    "    Returns:\n",
    "        pd.DataFrame: O DataFrame resultante com apenas as colunas especificadas em keep_columns.\n",
    "    \"\"\"\n",
    "    return dataframe[keep_columns]\n",
    "\n",
    "def filtragem_features(dataframe_raw: pd.DataFrame) -> Tuple[pd.DataFrame, pd.DataFrame, pd.DataFrame]:\n",
    "    \"\"\"\n",
    "    Descricao\n",
    "    \n",
    "    Args:\n",
    "    \n",
    "    Retornos:\n",
    "    \"\"\"\n",
    "    df_returns = dataframe_raw.loc[dataframe_raw['quantity'] < 0, ['customer_id', \n",
    "                                                                   'quantity']]\n",
    "    df_purchases = dataframe_raw.loc[dataframe_raw['quantity'] >= 0, :]\n",
    "    \n",
    "    # Filter main data\n",
    "    df_filtered = keep_features(dataframe_raw, ['invoice_no', 'stock_code', 'quantity',\n",
    "                                                'invoice_date', 'unit_price', \n",
    "                                                'customer_id', 'country'])\n",
    "    \n",
    "    return df_filtered, df_purchases, df_returns"
   ]
  },
  {
   "cell_type": "code",
   "execution_count": 28,
   "id": "b4ab0a9f-4d59-4016-b9c0-8781f62cba74",
   "metadata": {},
   "outputs": [
    {
     "data": {
      "text/plain": [
       "Index(['invoice_no', 'stock_code', 'description', 'quantity', 'invoice_date',\n",
       "       'unit_price', 'customer_id', 'country'],\n",
       "      dtype='object')"
      ]
     },
     "execution_count": 28,
     "metadata": {},
     "output_type": "execute_result"
    }
   ],
   "source": [
    "df_raw.columns"
   ]
  },
  {
   "cell_type": "code",
   "execution_count": 29,
   "id": "f036a239-57e0-4769-8613-6ecc6e2b5c16",
   "metadata": {},
   "outputs": [],
   "source": [
    "df_filtered, df_purchases, df_returns = filtragem_features(df_raw)"
   ]
  },
  {
   "cell_type": "code",
   "execution_count": 30,
   "id": "32db1fe6-4403-46a7-bd3a-bd81779bd3de",
   "metadata": {},
   "outputs": [
    {
     "data": {
      "text/html": [
       "<div>\n",
       "<style scoped>\n",
       "    .dataframe tbody tr th:only-of-type {\n",
       "        vertical-align: middle;\n",
       "    }\n",
       "\n",
       "    .dataframe tbody tr th {\n",
       "        vertical-align: top;\n",
       "    }\n",
       "\n",
       "    .dataframe thead th {\n",
       "        text-align: right;\n",
       "    }\n",
       "</style>\n",
       "<table border=\"1\" class=\"dataframe\">\n",
       "  <thead>\n",
       "    <tr style=\"text-align: right;\">\n",
       "      <th></th>\n",
       "      <th>invoice_no</th>\n",
       "      <th>stock_code</th>\n",
       "      <th>quantity</th>\n",
       "      <th>invoice_date</th>\n",
       "      <th>unit_price</th>\n",
       "      <th>customer_id</th>\n",
       "      <th>country</th>\n",
       "    </tr>\n",
       "  </thead>\n",
       "  <tbody>\n",
       "    <tr>\n",
       "      <th>0</th>\n",
       "      <td>576899</td>\n",
       "      <td>22698</td>\n",
       "      <td>18</td>\n",
       "      <td>2017-11-15</td>\n",
       "      <td>2.95</td>\n",
       "      <td>14911</td>\n",
       "      <td>EIRE</td>\n",
       "    </tr>\n",
       "  </tbody>\n",
       "</table>\n",
       "</div>"
      ],
      "text/plain": [
       "  invoice_no stock_code  quantity invoice_date  unit_price  customer_id  \\\n",
       "0     576899      22698        18   2017-11-15        2.95        14911   \n",
       "\n",
       "  country  \n",
       "0    EIRE  "
      ]
     },
     "execution_count": 30,
     "metadata": {},
     "output_type": "execute_result"
    }
   ],
   "source": [
    "df_filtered.head(1)"
   ]
  },
  {
   "cell_type": "code",
   "execution_count": 31,
   "id": "231c894e-0723-4569-a358-1313a0a07769",
   "metadata": {},
   "outputs": [
    {
     "data": {
      "text/html": [
       "<div>\n",
       "<style scoped>\n",
       "    .dataframe tbody tr th:only-of-type {\n",
       "        vertical-align: middle;\n",
       "    }\n",
       "\n",
       "    .dataframe tbody tr th {\n",
       "        vertical-align: top;\n",
       "    }\n",
       "\n",
       "    .dataframe thead th {\n",
       "        text-align: right;\n",
       "    }\n",
       "</style>\n",
       "<table border=\"1\" class=\"dataframe\">\n",
       "  <thead>\n",
       "    <tr style=\"text-align: right;\">\n",
       "      <th></th>\n",
       "      <th>invoice_no</th>\n",
       "      <th>stock_code</th>\n",
       "      <th>description</th>\n",
       "      <th>quantity</th>\n",
       "      <th>invoice_date</th>\n",
       "      <th>unit_price</th>\n",
       "      <th>customer_id</th>\n",
       "      <th>country</th>\n",
       "    </tr>\n",
       "  </thead>\n",
       "  <tbody>\n",
       "    <tr>\n",
       "      <th>0</th>\n",
       "      <td>576899</td>\n",
       "      <td>22698</td>\n",
       "      <td>PINK REGENCY TEACUP AND SAUCER</td>\n",
       "      <td>18</td>\n",
       "      <td>2017-11-15</td>\n",
       "      <td>2.95</td>\n",
       "      <td>14911</td>\n",
       "      <td>EIRE</td>\n",
       "    </tr>\n",
       "  </tbody>\n",
       "</table>\n",
       "</div>"
      ],
      "text/plain": [
       "  invoice_no stock_code                     description  quantity  \\\n",
       "0     576899      22698  PINK REGENCY TEACUP AND SAUCER        18   \n",
       "\n",
       "  invoice_date  unit_price  customer_id country  \n",
       "0   2017-11-15        2.95        14911    EIRE  "
      ]
     },
     "execution_count": 31,
     "metadata": {},
     "output_type": "execute_result"
    }
   ],
   "source": [
    "df_purchases.head(1)"
   ]
  },
  {
   "cell_type": "code",
   "execution_count": 32,
   "id": "6b88e609-7198-410d-9886-ced48e531252",
   "metadata": {},
   "outputs": [
    {
     "data": {
      "text/html": [
       "<div>\n",
       "<style scoped>\n",
       "    .dataframe tbody tr th:only-of-type {\n",
       "        vertical-align: middle;\n",
       "    }\n",
       "\n",
       "    .dataframe tbody tr th {\n",
       "        vertical-align: top;\n",
       "    }\n",
       "\n",
       "    .dataframe thead th {\n",
       "        text-align: right;\n",
       "    }\n",
       "</style>\n",
       "<table border=\"1\" class=\"dataframe\">\n",
       "  <thead>\n",
       "    <tr style=\"text-align: right;\">\n",
       "      <th></th>\n",
       "      <th>customer_id</th>\n",
       "      <th>quantity</th>\n",
       "    </tr>\n",
       "  </thead>\n",
       "  <tbody>\n",
       "    <tr>\n",
       "      <th>191</th>\n",
       "      <td>12670</td>\n",
       "      <td>-5</td>\n",
       "    </tr>\n",
       "  </tbody>\n",
       "</table>\n",
       "</div>"
      ],
      "text/plain": [
       "     customer_id  quantity\n",
       "191        12670        -5"
      ]
     },
     "execution_count": 32,
     "metadata": {},
     "output_type": "execute_result"
    }
   ],
   "source": [
    "df_returns.head(1)"
   ]
  },
  {
   "cell_type": "markdown",
   "id": "8c55f704-8977-49ed-a0d6-a257323dd761",
   "metadata": {},
   "source": [
    "# 3.0. Feature engineering"
   ]
  },
  {
   "cell_type": "code",
   "execution_count": 11,
   "id": "802d16f5-7339-4a47-a5e2-3ab628303c5a",
   "metadata": {},
   "outputs": [],
   "source": [
    "def calculate_gross_revenue(dataframe_purchases: pd.DataFrame) -> pd.DataFrame:\n",
    "    \"\"\"\n",
    "    Calcula a receita bruta de cada cliente com base nas colunas 'Quantity' e 'UnitPrice' e retorna\n",
    "    um DataFrame com as colunas 'CustomerID' e 'gross_revenue'.\n",
    "\n",
    "    Args:\n",
    "        dataframe_purchases (pd.DataFrame): O DataFrame das compras contendo as colunas 'CustomerID', 'Quantity' e 'UnitPrice'.\n",
    "\n",
    "    Returns:\n",
    "        pd.DataFrame: O DataFrame resultante contendo as colunas 'CustomerID' e 'gross_revenue'.\n",
    "    \"\"\"\n",
    "    # Verifica se as colunas necessárias estão presentes no DataFrame de entrada\n",
    "    required_columns = {'customer_id', 'quantity', 'unit_price'}\n",
    "    missing_columns = required_columns - set(dataframe_purchases.columns)\n",
    "    if missing_columns:\n",
    "        raise ValueError(f\"O DataFrame de entrada está faltando as seguintes colunas: {missing_columns}\")\n",
    "    \n",
    "    # Calcula a receita bruta e agrupa por CustomerID\n",
    "    df = dataframe_purchases.copy()\n",
    "    df.loc[:, 'gross_revenue'] = df.loc[:, 'quantity'] * df.loc[:, 'unit_price']\n",
    "    grouped_df = df.groupby('customer_id').agg({'gross_revenue': 'sum'}).reset_index().copy()\n",
    "    \n",
    "    return grouped_df\n",
    "\n",
    "def create_recency(dataframe_purchases: pd.DataFrame, dataframe_filtered: pd.DataFrame) -> pd.DataFrame:\n",
    "    \"\"\"\n",
    "    Calcula a recência da última compra para cada cliente.\n",
    "\n",
    "    Args:\n",
    "        dataframe_purchases (pd.DataFrame): DataFrame com as informações de compras de todos os clientes.\n",
    "        dataframe_filtered (pd.DataFrame): DataFrame filtrado apenas com as informações dos clientes que desejamos calcular a recência.\n",
    "\n",
    "    Returns:\n",
    "        pd.DataFrame: DataFrame com as colunas 'CustomerID' e 'recency_days', indicando a recência em dias da última compra para cada cliente.\n",
    "\n",
    "    \"\"\"\n",
    "    required_columns = {'customer_id', 'invoice_date'}\n",
    "    missing_columns = required_columns - set(dataframe_purchases.columns)\n",
    "    if missing_columns:\n",
    "        raise ValueError(f\"O DataFrame de entrada está faltando as seguintes colunas: {missing_columns}\")\n",
    "    # calcula a data da última compra de cada cliente\n",
    "    df_recency = dataframe_purchases.loc[:, ['customer_id', 'invoice_date']].groupby('customer_id').max().reset_index()\n",
    "    \n",
    "    # calcula a recência em dias da última compra de cada cliente em relação à data mais recente da base de dados filtrada\n",
    "    df_recency['recency_days'] = (dataframe_filtered['invoice_date'].max() - df_recency['invoice_date']).dt.days\n",
    "    \n",
    "    # retorna o DataFrame apenas com as colunas 'CustomerID' e 'recency_days'\n",
    "    return df_recency[['customer_id', 'recency_days']]\n",
    "\n",
    "def create_quantity_purchased(dataframe_purchases: pd.DataFrame) -> pd.DataFrame:\n",
    "    \"\"\"\n",
    "    Calcula a quantidade de produtos adquiridos por cada cliente.\n",
    "\n",
    "    Args:\n",
    "        dataframe_purchases (pd.DataFrame): DataFrame com as informações de compras de todos os clientes.\n",
    "\n",
    "    Returns:\n",
    "        pd.DataFrame: DataFrame com as colunas 'CustomerID' e 'qty_products', indicando a quantidade de produtos adquiridos por cada cliente.\n",
    "    \"\"\"\n",
    "    required_columns = {'customer_id', 'stock_code'}\n",
    "    missing_columns = required_columns - set(dataframe_purchases.columns)\n",
    "    if missing_columns:\n",
    "        raise ValueError(f\"O DataFrame de entrada está faltando as seguintes colunas: {missing_columns}\")\n",
    "    # agrupa as informações de compras por CustomerID e conta o número de StockCode para cada grupo\n",
    "    qty_purchased = dataframe_purchases.loc[:, ['customer_id', 'stock_code']].groupby('customer_id').count()\n",
    "    \n",
    "    # renomeia a coluna StockCode para qty_products e reseta o índice para transformar o CustomerID em uma coluna\n",
    "    qty_purchased = qty_purchased.reset_index().rename(columns={'stock_code': 'qty_products'})\n",
    "    \n",
    "    # retorna o DataFrame com as colunas 'CustomerID' e 'qty_products'\n",
    "    return qty_purchased\n",
    "def create_freq_purchases(dataframe_purchases: pd.DataFrame) -> pd.DataFrame:\n",
    "    \"\"\"\n",
    "    Calculates the purchase frequency of each customer based on the purchase history.\n",
    "\n",
    "    Parameters\n",
    "    ----------\n",
    "    dataframe_purchases : pd.DataFrame\n",
    "        DataFrame with purchase history of each customer, containing columns CustomerID, InvoiceNo, and InvoiceDate.\n",
    "\n",
    "    Returns\n",
    "    -------\n",
    "    pd.DataFrame\n",
    "        DataFrame with the purchase frequency of each customer, containing columns CustomerID and frequency.\n",
    "    \"\"\"\n",
    "    required_columns = {'customer_id', 'invoice_no', 'invoice_date'}\n",
    "    missing_columns = required_columns - set(dataframe_purchases.columns)\n",
    "    if missing_columns:\n",
    "        raise ValueError(f\"O DataFrame de entrada está faltando as seguintes colunas: {missing_columns}\")\n",
    "\n",
    "    # Calculate time range of purchases for each customer\n",
    "    df_aux = (dataframe_purchases[['customer_id', 'invoice_no', 'invoice_date']]\n",
    "              .drop_duplicates()\n",
    "              .groupby('customer_id')\n",
    "              .agg(max_=('invoice_date', 'max'),\n",
    "                   min_=('invoice_date', 'min'),\n",
    "                   days_=('invoice_date', lambda x: ((x.max() - x.min()).days) + 1),\n",
    "                   buy_=('invoice_no', 'count'))\n",
    "              .reset_index())\n",
    "\n",
    "    # Calculate frequency of purchases for each customer\n",
    "    df_aux['frequency'] = df_aux[['buy_', 'days_']].apply(\n",
    "        lambda x: x['buy_'] / x['days_'] if x['days_'] != 0 else 0, axis=1)\n",
    "\n",
    "    return df_aux\n",
    "def create_qty_returns(dataframe_returns: pd.DataFrame) -> pd.DataFrame:\n",
    "    \"\"\"\n",
    "    Computes the total quantity of returned products for each customer.\n",
    "\n",
    "    Args:\n",
    "        dataframe_returns: A pandas DataFrame containing information about returns.\n",
    "\n",
    "    Returns:\n",
    "        A pandas DataFrame with the total quantity of returned products for each customer.\n",
    "    \"\"\"\n",
    "    # Validate input data\n",
    "    \n",
    "    if not all(col in dataframe_returns.columns for col in ['customer_id', 'quantity']):\n",
    "        raise ValueError(\"Input DataFrame must contain 'CustomerID' and 'Quantity' columns\")\n",
    "    \n",
    "    # Compute quantity of returns\n",
    "    df_returns = dataframe_returns[['customer_id', 'quantity']].groupby('customer_id').sum().reset_index().rename(columns={'quantity': 'qty_returns'})\n",
    "    df_returns['qty_returns'] = df_returns['qty_returns']* -1\n",
    "    \n",
    "    return df_returns\n",
    "def run_feature_engineering(dataframe_filtered: pd.DataFrame, dataframe_purchases: pd.DataFrame, dataframe_returns: pd.DataFrame) -> pd.DataFrame:\n",
    "    \"\"\"\n",
    "    Performs feature engineering on the input dataframes and returns a new dataframe with the engineered features.\n",
    "\n",
    "    Args:\n",
    "        dataframe_filtered: A pandas DataFrame containing filtered customer order data.\n",
    "        dataframe_purchases: A pandas DataFrame containing customer purchase data.\n",
    "        dataframe_returns: A pandas DataFrame containing customer return data.\n",
    "\n",
    "    Returns:\n",
    "        A pandas DataFrame with the engineered features for each customer.\n",
    "    \"\"\"\n",
    "    # Check if input dataframes are empty\n",
    "    if dataframe_filtered.empty:\n",
    "        raise ValueError(\"Input DataFrame 'dataframe_filtered' is empty\")\n",
    "    if dataframe_purchases.empty:\n",
    "        raise ValueError(\"Input DataFrame 'dataframe_purchases' is empty\")\n",
    "\n",
    "    # Check if required columns are present in input dataframes\n",
    "    required_columns = ['customer_id', 'invoiceDate', 'stock_code', 'quantity', 'unit_price']\n",
    "    for df, name in zip([dataframe_filtered, dataframe_purchases], ['dataframe_filtered', 'dataframe_purchases']):\n",
    "        missing_columns = set(required_columns) - set(df.columns)\n",
    "        if missing_columns:\n",
    "            raise ValueError(f\"Missing columns {missing_columns} in input DataFrame '{name}'\")\n",
    "    if 'customer_id' not in dataframe_returns.columns:\n",
    "        raise ValueError(\"Column 'CustomerID' not found in input DataFrame 'dataframe_returns'\")\n",
    "    if 'quantity' not in dataframe_returns.columns:\n",
    "        raise ValueError(\"Column 'Quantity' not found in input DataFrame 'dataframe_returns'\")\n",
    "\n",
    "    # Perform feature engineering\n",
    "    df_fengi = keep_features(dataframe_filtered, ['CustomerID']).drop_duplicates(ignore_index=True)\n",
    "    gross_revenue = calculate_gross_revenue(dataframe_purchases)\n",
    "    df_recency = create_recency(dataframe_purchases, dataframe_filtered)\n",
    "    df_qty_products = create_quantity_purchased(dataframe_purchases)\n",
    "    df_freq = create_freq_purchases(dataframe_purchases)\n",
    "    returns = create_qty_returns(dataframe_returns)\n",
    "    \n",
    "    # Merge dataframes\n",
    "    dfs = [df_fengi, gross_revenue, df_recency, df_qty_products, df_freq, returns]\n",
    "    df_fengi = reduce(lambda left,right: pd.merge(left, right, on='CustomerID', how='left'), dfs)\n",
    "\n",
    "    # Fill NaN values\n",
    "    df_fengi['qty_returns'] = df_fengi['qty_returns'].fillna(0)\n",
    "\n",
    "    # Select final features and return dataframe\n",
    "    features = ['CustomerID', 'gross_revenue', 'recency_days', 'qty_products', 'frequency', 'qty_returns']\n",
    "    return keep_features(df_fengi, features).dropna()"
   ]
  },
  {
   "cell_type": "code",
   "execution_count": 12,
   "id": "ee142ee8-8ddd-442d-b716-e27d822e62bc",
   "metadata": {},
   "outputs": [
    {
     "ename": "NameError",
     "evalue": "name 'df_filtered' is not defined",
     "output_type": "error",
     "traceback": [
      "\u001b[0;31m---------------------------------------------------------------------------\u001b[0m",
      "\u001b[0;31mNameError\u001b[0m                                 Traceback (most recent call last)",
      "\u001b[0;32m/tmp/ipykernel_1/2251773320.py\u001b[0m in \u001b[0;36m<module>\u001b[0;34m\u001b[0m\n\u001b[0;32m----> 1\u001b[0;31m \u001b[0mdf_fengi\u001b[0m \u001b[0;34m=\u001b[0m \u001b[0mrun_feature_engineering\u001b[0m\u001b[0;34m(\u001b[0m\u001b[0mdf_filtered\u001b[0m\u001b[0;34m,\u001b[0m \u001b[0mdf_purchases\u001b[0m\u001b[0;34m,\u001b[0m \u001b[0mdf_returns\u001b[0m\u001b[0;34m)\u001b[0m\u001b[0;34m\u001b[0m\u001b[0;34m\u001b[0m\u001b[0m\n\u001b[0m\u001b[1;32m      2\u001b[0m \u001b[0mdf_fengi\u001b[0m\u001b[0;34m.\u001b[0m\u001b[0mhead\u001b[0m\u001b[0;34m(\u001b[0m\u001b[0;34m)\u001b[0m\u001b[0;34m\u001b[0m\u001b[0;34m\u001b[0m\u001b[0m\n",
      "\u001b[0;31mNameError\u001b[0m: name 'df_filtered' is not defined"
     ]
    }
   ],
   "source": [
    "df_fengi = run_feature_engineering(df_filtered, df_purchases, df_returns)\n",
    "df_fengi.head()"
   ]
  },
  {
   "cell_type": "code",
   "execution_count": null,
   "id": "0b7f6464-0c43-4652-8ccc-4f7530e43457",
   "metadata": {},
   "outputs": [],
   "source": []
  },
  {
   "cell_type": "code",
   "execution_count": null,
   "id": "54e7cfc5-2e73-4bbe-93bc-102e21b33ec4",
   "metadata": {},
   "outputs": [],
   "source": []
  },
  {
   "cell_type": "code",
   "execution_count": null,
   "id": "a681b17f-3913-467a-abb3-5ca3760b0955",
   "metadata": {},
   "outputs": [],
   "source": []
  },
  {
   "cell_type": "code",
   "execution_count": null,
   "id": "5e281e30-1e03-4a79-9685-f7de68626636",
   "metadata": {},
   "outputs": [],
   "source": []
  }
 ],
 "metadata": {
  "kernelspec": {
   "display_name": "Python (Local)",
   "language": "python",
   "name": "local-base"
  },
  "language_info": {
   "codemirror_mode": {
    "name": "ipython",
    "version": 3
   },
   "file_extension": ".py",
   "mimetype": "text/x-python",
   "name": "python",
   "nbconvert_exporter": "python",
   "pygments_lexer": "ipython3",
   "version": "3.7.12"
  }
 },
 "nbformat": 4,
 "nbformat_minor": 5
}
