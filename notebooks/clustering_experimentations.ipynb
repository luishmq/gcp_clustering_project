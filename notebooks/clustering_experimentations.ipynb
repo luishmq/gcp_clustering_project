{
 "cells": [
  {
   "cell_type": "markdown",
   "id": "fe5012bf-54a4-421c-b680-ecb4afbf8723",
   "metadata": {},
   "source": [
    "# 0.0 Imports"
   ]
  },
  {
   "cell_type": "code",
   "execution_count": 3,
   "id": "207a82f8-16de-4b40-af32-c164528789a7",
   "metadata": {},
   "outputs": [],
   "source": [
    "import pandas as pd\n",
    "import numpy  as np\n",
    "import inflection\n",
    "from typing import Tuple\n",
    "from functools import reduce "
   ]
  },
  {
   "cell_type": "code",
   "execution_count": 2,
   "id": "397ced24-161c-4b84-8398-0104461fc690",
   "metadata": {},
   "outputs": [
    {
     "name": "stdout",
     "output_type": "stream",
     "text": [
      "Collecting inflection\n",
      "  Downloading inflection-0.5.1-py2.py3-none-any.whl (9.5 kB)\n",
      "Installing collected packages: inflection\n",
      "Successfully installed inflection-0.5.1\n"
     ]
    }
   ],
   "source": [
    "!pip install inflection"
   ]
  },
  {
   "cell_type": "markdown",
   "id": "62f03f70-3b72-406d-a796-d62c3037a269",
   "metadata": {},
   "source": [
    "# 1.0 Loading Data"
   ]
  },
  {
   "cell_type": "code",
   "execution_count": 4,
   "id": "6b58e5be-df5e-486f-8dde-4196a1456378",
   "metadata": {},
   "outputs": [
    {
     "data": {
      "application/vnd.jupyter.widget-view+json": {
       "model_id": "d83328801eb741ab902845fa2f7bb80b",
       "version_major": 2,
       "version_minor": 0
      },
      "text/plain": [
       "Query is running:   0%|          |"
      ]
     },
     "metadata": {},
     "output_type": "display_data"
    },
    {
     "data": {
      "application/vnd.jupyter.widget-view+json": {
       "model_id": "5958cf25dc424d44b8e81f9e14b766c2",
       "version_major": 2,
       "version_minor": 0
      },
      "text/plain": [
       "Downloading:   0%|          |"
      ]
     },
     "metadata": {},
     "output_type": "display_data"
    }
   ],
   "source": [
    "%%bigquery df_raw\n",
    "\n",
    "SELECT * FROM gcpproject-394221.ecommerce_database.ecommerce_table2 WHERE InvoiceDate <= \"2023-05-15\""
   ]
  },
  {
   "cell_type": "code",
   "execution_count": 5,
   "id": "36f5782d-8dbe-4e32-aa65-b2ff1f8e1663",
   "metadata": {},
   "outputs": [
    {
     "data": {
      "text/html": [
       "<div>\n",
       "<style scoped>\n",
       "    .dataframe tbody tr th:only-of-type {\n",
       "        vertical-align: middle;\n",
       "    }\n",
       "\n",
       "    .dataframe tbody tr th {\n",
       "        vertical-align: top;\n",
       "    }\n",
       "\n",
       "    .dataframe thead th {\n",
       "        text-align: right;\n",
       "    }\n",
       "</style>\n",
       "<table border=\"1\" class=\"dataframe\">\n",
       "  <thead>\n",
       "    <tr style=\"text-align: right;\">\n",
       "      <th></th>\n",
       "      <th>InvoiceNo</th>\n",
       "      <th>StockCode</th>\n",
       "      <th>Description</th>\n",
       "      <th>Quantity</th>\n",
       "      <th>InvoiceDate</th>\n",
       "      <th>UnitPrice</th>\n",
       "      <th>CustomerID</th>\n",
       "      <th>Country</th>\n",
       "    </tr>\n",
       "  </thead>\n",
       "  <tbody>\n",
       "    <tr>\n",
       "      <th>0</th>\n",
       "      <td>576899</td>\n",
       "      <td>22698</td>\n",
       "      <td>PINK REGENCY TEACUP AND SAUCER</td>\n",
       "      <td>18</td>\n",
       "      <td>2017-11-15</td>\n",
       "      <td>2.95</td>\n",
       "      <td>14911.0</td>\n",
       "      <td>EIRE</td>\n",
       "    </tr>\n",
       "    <tr>\n",
       "      <th>1</th>\n",
       "      <td>576899</td>\n",
       "      <td>22699</td>\n",
       "      <td>ROSES REGENCY TEACUP AND SAUCER</td>\n",
       "      <td>18</td>\n",
       "      <td>2017-11-15</td>\n",
       "      <td>2.95</td>\n",
       "      <td>14911.0</td>\n",
       "      <td>EIRE</td>\n",
       "    </tr>\n",
       "    <tr>\n",
       "      <th>2</th>\n",
       "      <td>576899</td>\n",
       "      <td>22697</td>\n",
       "      <td>GREEN REGENCY TEACUP AND SAUCER</td>\n",
       "      <td>18</td>\n",
       "      <td>2017-11-15</td>\n",
       "      <td>2.95</td>\n",
       "      <td>14911.0</td>\n",
       "      <td>EIRE</td>\n",
       "    </tr>\n",
       "    <tr>\n",
       "      <th>3</th>\n",
       "      <td>576899</td>\n",
       "      <td>22843</td>\n",
       "      <td>BISCUIT TIN VINTAGE GREEN</td>\n",
       "      <td>2</td>\n",
       "      <td>2017-11-15</td>\n",
       "      <td>6.75</td>\n",
       "      <td>14911.0</td>\n",
       "      <td>EIRE</td>\n",
       "    </tr>\n",
       "    <tr>\n",
       "      <th>4</th>\n",
       "      <td>576899</td>\n",
       "      <td>22842</td>\n",
       "      <td>BISCUIT TIN VINTAGE RED</td>\n",
       "      <td>2</td>\n",
       "      <td>2017-11-15</td>\n",
       "      <td>6.75</td>\n",
       "      <td>14911.0</td>\n",
       "      <td>EIRE</td>\n",
       "    </tr>\n",
       "  </tbody>\n",
       "</table>\n",
       "</div>"
      ],
      "text/plain": [
       "  InvoiceNo StockCode                       Description  Quantity InvoiceDate  \\\n",
       "0    576899     22698    PINK REGENCY TEACUP AND SAUCER        18  2017-11-15   \n",
       "1    576899     22699  ROSES REGENCY TEACUP AND SAUCER         18  2017-11-15   \n",
       "2    576899     22697   GREEN REGENCY TEACUP AND SAUCER        18  2017-11-15   \n",
       "3    576899     22843         BISCUIT TIN VINTAGE GREEN         2  2017-11-15   \n",
       "4    576899     22842           BISCUIT TIN VINTAGE RED         2  2017-11-15   \n",
       "\n",
       "   UnitPrice  CustomerID Country  \n",
       "0       2.95     14911.0    EIRE  \n",
       "1       2.95     14911.0    EIRE  \n",
       "2       2.95     14911.0    EIRE  \n",
       "3       6.75     14911.0    EIRE  \n",
       "4       6.75     14911.0    EIRE  "
      ]
     },
     "execution_count": 5,
     "metadata": {},
     "output_type": "execute_result"
    }
   ],
   "source": [
    "df_raw.head()"
   ]
  },
  {
   "cell_type": "markdown",
   "id": "27ef7840-a1c5-4d4a-ace5-7de4cbbdac79",
   "metadata": {},
   "source": [
    "## 1.1 Rename Columns"
   ]
  },
  {
   "cell_type": "code",
   "execution_count": 7,
   "id": "23bfc60c-81b7-43b9-89aa-d20dba50b489",
   "metadata": {},
   "outputs": [],
   "source": [
    "# Mudar para snake case\n",
    "old_cols = ['InvoiceNo', 'StockCode', 'Description', 'Quantity', 'InvoiceDate',\n",
    "       'UnitPrice', 'CustomerID', 'Country']\n",
    "\n",
    "snake_case = lambda x: inflection.underscore(x)\n",
    "\n",
    "new_cols = list( map(snake_case, old_cols))\n",
    "df_raw.columns = new_cols"
   ]
  },
  {
   "cell_type": "markdown",
   "id": "e26e182f-817a-4ff8-a98d-21b9debde0b7",
   "metadata": {},
   "source": [
    "## 1.2 Data Dimensions"
   ]
  },
  {
   "cell_type": "code",
   "execution_count": 9,
   "id": "abd0623c-4814-496c-8c7b-0f588699d164",
   "metadata": {},
   "outputs": [
    {
     "name": "stdout",
     "output_type": "stream",
     "text": [
      "Número de linhas do conjunto de dados: 404772\n",
      "Número de colunas do conjunto de dados: 8\n"
     ]
    }
   ],
   "source": [
    "print(\"Número de linhas do conjunto de dados: {}\".format(df_raw.shape[0]))\n",
    "print(\"Número de colunas do conjunto de dados: {}\".format(df_raw.shape[1]))"
   ]
  },
  {
   "cell_type": "markdown",
   "id": "6e3dcce6-81cf-4239-8405-1248e930f3ee",
   "metadata": {},
   "source": [
    "## 1.3 Data Types"
   ]
  },
  {
   "cell_type": "code",
   "execution_count": 10,
   "id": "271824d1-b417-44f6-98e8-9fbac56a8356",
   "metadata": {},
   "outputs": [
    {
     "data": {
      "text/plain": [
       "invoice_no       object\n",
       "stock_code       object\n",
       "description      object\n",
       "quantity          Int64\n",
       "invoice_date     dbdate\n",
       "unit_price      float64\n",
       "customer_id     float64\n",
       "country          object\n",
       "dtype: object"
      ]
     },
     "execution_count": 10,
     "metadata": {},
     "output_type": "execute_result"
    }
   ],
   "source": [
    "df_raw.dtypes"
   ]
  },
  {
   "cell_type": "markdown",
   "id": "cde2fd25-0534-4e08-80a8-390893ac0830",
   "metadata": {},
   "source": [
    "## 1.4 Change Types"
   ]
  },
  {
   "cell_type": "code",
   "execution_count": 12,
   "id": "b5575ba2-de63-44f0-bfce-98b5defba222",
   "metadata": {},
   "outputs": [],
   "source": [
    "df_raw['invoice_date'] = pd.to_datetime(df_raw['invoice_date'])\n",
    "df_raw['customer_id'] = df_raw['customer_id'].astype(int)"
   ]
  },
  {
   "cell_type": "markdown",
   "id": "00a6f8ec-4124-4765-a89e-b8c9a3558151",
   "metadata": {},
   "source": [
    "# 2.0 Data Preparation"
   ]
  },
  {
   "cell_type": "code",
   "execution_count": null,
   "id": "086277ca-3e0c-44bc-b6e6-9c097e3ec796",
   "metadata": {},
   "outputs": [],
   "source": []
  }
 ],
 "metadata": {
  "kernelspec": {
   "display_name": "Python (Local)",
   "language": "python",
   "name": "local-base"
  },
  "language_info": {
   "codemirror_mode": {
    "name": "ipython",
    "version": 3
   },
   "file_extension": ".py",
   "mimetype": "text/x-python",
   "name": "python",
   "nbconvert_exporter": "python",
   "pygments_lexer": "ipython3",
   "version": "3.7.12"
  }
 },
 "nbformat": 4,
 "nbformat_minor": 5
}
