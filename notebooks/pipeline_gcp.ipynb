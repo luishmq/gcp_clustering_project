{
 "cells": [
  {
   "cell_type": "code",
   "execution_count": 1,
   "id": "ff58c8da-1eb2-4376-9ad5-0e152bde4ecc",
   "metadata": {},
   "outputs": [],
   "source": [
    "#USER_FLAG = \"--user\"\n",
    "#!pip3 install {USER_FLAG} kfp --upgrade\n",
    "#!pip3 install {USER_FLAG} google_cloud_pipeline_components --upgrade\n",
    "#!pip3 install {USER_FLAG} 'apache-beam[gcp]'"
   ]
  },
  {
   "cell_type": "code",
   "execution_count": 2,
   "id": "7fb455c6-8d1a-4b63-b016-b2f19d20b25f",
   "metadata": {},
   "outputs": [
    {
     "name": "stdout",
     "output_type": "stream",
     "text": [
      "KFP SDK version: 2.0.1\n"
     ]
    }
   ],
   "source": [
    "! python3 -c \"import kfp; print('KFP SDK version: {}'.format(kfp.__version__))\""
   ]
  },
  {
   "cell_type": "code",
   "execution_count": 3,
   "id": "b48e25f7-c840-441b-9b86-5ff03542baa4",
   "metadata": {},
   "outputs": [
    {
     "name": "stdout",
     "output_type": "stream",
     "text": [
      "aiplatform SDK version: 1.25.0\n"
     ]
    }
   ],
   "source": [
    "! python3 -c \"from google.cloud import aiplatform; print('aiplatform SDK version: {}'.format(aiplatform.__version__))\""
   ]
  },
  {
   "cell_type": "markdown",
   "id": "806a5b62-e87b-437b-bda0-6481532e8a07",
   "metadata": {},
   "source": [
    "# 0.0 Imports"
   ]
  },
  {
   "cell_type": "code",
   "execution_count": 4,
   "id": "07faf00e-623c-40d8-8fb8-99513549d1ce",
   "metadata": {},
   "outputs": [
    {
     "name": "stderr",
     "output_type": "stream",
     "text": [
      "/opt/conda/lib/python3.7/site-packages/ipykernel_launcher.py:3: DeprecationWarning: The module `kfp.v2` is deprecated and will be removed in a futureversion. Please import directly from the `kfp` namespace, instead of `kfp.v2`.\n",
      "  This is separate from the ipykernel package so we can avoid doing imports until\n"
     ]
    },
    {
     "ename": "ImportError",
     "evalue": "cannot import name 'aiplatform' from 'google_cloud_pipeline_components' (/home/jupyter/.local/lib/python3.7/site-packages/google_cloud_pipeline_components/__init__.py)",
     "output_type": "error",
     "traceback": [
      "\u001b[0;31m---------------------------------------------------------------------------\u001b[0m",
      "\u001b[0;31mImportError\u001b[0m                               Traceback (most recent call last)",
      "\u001b[0;32m/tmp/ipykernel_1/1427607336.py\u001b[0m in \u001b[0;36m<module>\u001b[0;34m\u001b[0m\n\u001b[1;32m     19\u001b[0m \u001b[0;32mfrom\u001b[0m \u001b[0mgoogle\u001b[0m\u001b[0;34m.\u001b[0m\u001b[0mcloud\u001b[0m\u001b[0;34m.\u001b[0m\u001b[0maiplatform\u001b[0m \u001b[0;32mimport\u001b[0m \u001b[0mpipeline_jobs\u001b[0m\u001b[0;34m\u001b[0m\u001b[0;34m\u001b[0m\u001b[0m\n\u001b[1;32m     20\u001b[0m \u001b[0;34m\u001b[0m\u001b[0m\n\u001b[0;32m---> 21\u001b[0;31m \u001b[0;32mfrom\u001b[0m \u001b[0mgoogle_cloud_pipeline_components\u001b[0m \u001b[0;32mimport\u001b[0m \u001b[0maiplatform\u001b[0m \u001b[0;32mas\u001b[0m \u001b[0mgcc_aip\u001b[0m\u001b[0;34m\u001b[0m\u001b[0;34m\u001b[0m\u001b[0m\n\u001b[0m",
      "\u001b[0;31mImportError\u001b[0m: cannot import name 'aiplatform' from 'google_cloud_pipeline_components' (/home/jupyter/.local/lib/python3.7/site-packages/google_cloud_pipeline_components/__init__.py)"
     ]
    }
   ],
   "source": [
    "from typing import NamedTuple\n",
    "\n",
    "from kfp.v2 import dsl\n",
    "from kfp.v2.dsl import (pipeline,\n",
    "                        Artifact,\n",
    "                        Dataset,\n",
    "                        Input,\n",
    "                        Model,\n",
    "                        Output,\n",
    "                        Metrics,\n",
    "                        ClassificationMetrics,\n",
    "                        component, \n",
    "                        Markdown)\n",
    "\n",
    "from kfp.v2 import compiler\n",
    "\n",
    "\n",
    "from google.cloud import aiplatform\n",
    "from google.cloud.aiplatform import pipeline_jobs\n",
    "\n",
    "from google_cloud_pipeline_components import aiplatform as gcc_aip"
   ]
  },
  {
   "cell_type": "code",
   "execution_count": null,
   "id": "616f4007-f524-414a-b403-8989e7b6a14c",
   "metadata": {},
   "outputs": [],
   "source": [
    "pipeline_root = 'gs://bucket_pipeline'"
   ]
  },
  {
   "cell_type": "markdown",
   "id": "4578d639-b122-409f-b17b-c5950cca7ef0",
   "metadata": {},
   "source": [
    "# 1.0 Data Capture"
   ]
  },
  {
   "cell_type": "code",
   "execution_count": null,
   "id": "086a686c-b534-4fc9-b167-f3d19cb0a65f",
   "metadata": {},
   "outputs": [],
   "source": [
    "@component(packages_to_install=[\"google-cloud-bigquery\",\"db-dtypes\", \"pandas\"],\n",
    "          base_image=\"python:3.10.6\",\n",
    "          output_component_file=\"captura_dados.yaml\")\n",
    "def captura_dados():\n",
    "    import logging\n",
    "\n",
    "    import pandas as pd\n",
    "    from google.cloud import bigquery\n",
    "    \n",
    "    PROJECT_ID = \"gcp-vertex\"\n",
    "    DATASET_ID = \"gcp_bq\"\n",
    "    TABLE_RAW_ID = \"dados_ecommerce_raw\"\n",
    "    TABLE_ID = \"ecommerce_cds\"\n",
    "    \n",
    "    def run_bq_query(sql: str, project_name: str) -> Union[str, pd.DataFrame]:\n",
    "        \"\"\"\n",
    "        Run a BigQuery query and return the job ID or result as a DataFrame\n",
    "        Args:\n",
    "            sql: SQL query, as a string, to execute in BigQuery\n",
    "        Returns:\n",
    "            df: DataFrame of results from query,  or error, if any\n",
    "        \"\"\"\n",
    "        \n",
    "        bq_client = bigquery.Client(project=project_name)\n",
    "\n",
    "        # Try dry run before executing query to catch any errors\n",
    "        job_config = bigquery.QueryJobConfig(dry_run=True, use_query_cache=False)\n",
    "        bq_client.query(sql, job_config=job_config)\n",
    "\n",
    "        # If dry run succeeds without errors, proceed to run query\n",
    "        job_config = bigquery.QueryJobConfig()\n",
    "        client_result = bq_client.query(sql, job_config=job_config)\n",
    "\n",
    "        job_id = client_result.job_id\n",
    "\n",
    "        # Wait for query/job to finish running. then get & return data frame\n",
    "        df = client_result.result().to_arrow().to_pandas()\n",
    "        print(f\"Finished job_id: {job_id}\")\n",
    "        \n",
    "        return df\n",
    "    \n",
    "    \n",
    "    query = f\"\"\"\n",
    "                CREATE OR REPLACE TABLE\n",
    "               `{PROJECT_ID}.{DATASET_ID}.{TABLE_ID}` (invoice_no STRING,\n",
    "                stock_code STRING,\n",
    "                description STRING,\n",
    "                quantity INT64,\n",
    "                invoice_date DATE,\n",
    "                unit_price FLOAT64,\n",
    "                customer_id FLOAT64,\n",
    "                country STRING)\n",
    "            PARTITION BY\n",
    "              invoice_date AS (\n",
    "              WITH\n",
    "                not_nulls AS (\n",
    "                SELECT\n",
    "                  *\n",
    "                FROM\n",
    "                  `{PROJECT_ID}.{DATASET_ID}.{TABLE_RAW_ID}`\n",
    "                WHERE\n",
    "                  invoice_date <= CURRENT_DATE()\n",
    "                  AND customer_id IS NOT NULL\n",
    "                  AND description IS NOT NULL),\n",
    "                filtering_features AS (\n",
    "                SELECT\n",
    "                  *\n",
    "                FROM\n",
    "                  not_nulls\n",
    "                WHERE\n",
    "                  unit_price >= 0.04\n",
    "                  AND country NOT IN ('European Community',\n",
    "                    'Unspecified')\n",
    "                  AND stock_code NOT IN ('POST',\n",
    "                    'D',\n",
    "                    'DOT',\n",
    "                    'M',\n",
    "                    'S',\n",
    "                    'AMAZONFEE',\n",
    "                    'm',\n",
    "                    'DCGSSBOY',\n",
    "                    'DCGSSGIRL',\n",
    "                    'PADS',\n",
    "                    'B',\n",
    "                    'CRUK')\n",
    "                  AND customer_id != 16446)\n",
    "              SELECT\n",
    "                *\n",
    "              FROM\n",
    "                filtering_features);\n",
    "    \"\"\"\n",
    "    \n",
    "    run_bq_query(query, project_name=PROJECT_ID)\n",
    "    logging.info(f'Tabela criada: {PROJECT_ID}.{DATASET_ID}.{TABLE_ID}')"
   ]
  },
  {
   "cell_type": "code",
   "execution_count": null,
   "id": "e4a983ad-602d-432e-bbf7-cc183fe5a6d4",
   "metadata": {},
   "outputs": [],
   "source": []
  },
  {
   "cell_type": "code",
   "execution_count": null,
   "id": "4a4ab1ef-2eb4-44f9-975a-5e0e878b8b1f",
   "metadata": {},
   "outputs": [],
   "source": []
  }
 ],
 "metadata": {
  "kernelspec": {
   "display_name": "Python (Local)",
   "language": "python",
   "name": "local-base"
  },
  "language_info": {
   "codemirror_mode": {
    "name": "ipython",
    "version": 3
   },
   "file_extension": ".py",
   "mimetype": "text/x-python",
   "name": "python",
   "nbconvert_exporter": "python",
   "pygments_lexer": "ipython3",
   "version": "3.7.12"
  }
 },
 "nbformat": 4,
 "nbformat_minor": 5
}
